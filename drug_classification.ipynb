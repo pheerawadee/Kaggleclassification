{
  "cells": [
    {
      "cell_type": "markdown",
      "id": "db5c2fd3",
      "metadata": {
        "papermill": {
          "duration": 0.013521,
          "end_time": "2023-01-01T15:51:26.829484",
          "exception": false,
          "start_time": "2023-01-01T15:51:26.815963",
          "status": "completed"
        },
        "tags": [],
        "id": "db5c2fd3"
      },
      "source": [
        "# Drug Classification\n",
        "This database contains information about certain drug types.\n",
        "\n",
        "The target feature is\n",
        "- Drug type\n",
        "\n",
        "The feature sets are:\n",
        "- Age\n",
        "- Sex\n",
        "- Blood Pressure Levels (BP)\n",
        "- Cholesterol Levels\n",
        "- Na to Potassium Ration\n"
      ]
    },
    {
      "cell_type": "markdown",
      "id": "f20dc73a",
      "metadata": {
        "papermill": {
          "duration": 0.014518,
          "end_time": "2023-01-01T15:51:26.858901",
          "exception": false,
          "start_time": "2023-01-01T15:51:26.844383",
          "status": "completed"
        },
        "tags": [],
        "id": "f20dc73a"
      },
      "source": [
        "# Importing The Libraries"
      ]
    },
    {
      "cell_type": "code",
      "execution_count": null,
      "id": "8f4e2a02",
      "metadata": {
        "execution": {
          "iopub.execute_input": "2023-01-01T15:51:26.885089Z",
          "iopub.status.busy": "2023-01-01T15:51:26.884586Z",
          "iopub.status.idle": "2023-01-01T15:51:28.438757Z",
          "shell.execute_reply": "2023-01-01T15:51:28.437591Z"
        },
        "papermill": {
          "duration": 1.570378,
          "end_time": "2023-01-01T15:51:28.441666",
          "exception": false,
          "start_time": "2023-01-01T15:51:26.871288",
          "status": "completed"
        },
        "tags": [],
        "id": "8f4e2a02"
      },
      "outputs": [],
      "source": [
        "# Import all the tools we need\n",
        "\n",
        "# Regular EDA (exploratory data analysis) and plotting libraries\n",
        "import numpy as np\n",
        "import pandas as pd\n",
        "import matplotlib.pyplot as plt\n",
        "import seaborn as sns\n",
        "sns.set()\n",
        "\n",
        "# Data Preprocessing \n",
        "from sklearn import preprocessing\n",
        "\n",
        "# Models from Scikit-Learn\n",
        "from sklearn.linear_model import LogisticRegression\n",
        "from sklearn.neighbors import KNeighborsClassifier\n",
        "\n",
        "# Model Evaluations\n",
        "from sklearn.feature_selection import f_regression\n",
        "from sklearn.model_selection import train_test_split, cross_val_score\n",
        "from sklearn.model_selection import RandomizedSearchCV, GridSearchCV\n",
        "from sklearn.metrics import confusion_matrix, classification_report\n",
        "from sklearn.metrics import precision_score, recall_score, f1_score\n",
        "from sklearn.metrics import plot_roc_curve\n",
        "\n",
        "# Ignore Warning \n",
        "import warnings\n",
        "warnings.filterwarnings('ignore')"
      ]
    },
    {
      "cell_type": "markdown",
      "id": "a9967ef4",
      "metadata": {
        "papermill": {
          "duration": 0.010453,
          "end_time": "2023-01-01T15:51:28.463028",
          "exception": false,
          "start_time": "2023-01-01T15:51:28.452575",
          "status": "completed"
        },
        "tags": [],
        "id": "a9967ef4"
      },
      "source": [
        "# Importing The Data "
      ]
    },
    {
      "cell_type": "code",
      "execution_count": null,
      "id": "746fdcfa",
      "metadata": {
        "execution": {
          "iopub.execute_input": "2023-01-01T15:51:28.486084Z",
          "iopub.status.busy": "2023-01-01T15:51:28.485618Z",
          "iopub.status.idle": "2023-01-01T15:51:28.532804Z",
          "shell.execute_reply": "2023-01-01T15:51:28.531650Z"
        },
        "papermill": {
          "duration": 0.061733,
          "end_time": "2023-01-01T15:51:28.535446",
          "exception": false,
          "start_time": "2023-01-01T15:51:28.473713",
          "status": "completed"
        },
        "tags": [],
        "colab": {
          "base_uri": "https://localhost:8080/",
          "height": 204
        },
        "id": "746fdcfa",
        "outputId": "967624dc-b6ff-4498-e99a-2d2da38266f4"
      },
      "outputs": [
        {
          "output_type": "execute_result",
          "data": {
            "text/plain": [
              "   Age Sex      BP Cholesterol  Na_to_K   Drug\n",
              "0   23   F    HIGH        HIGH   25.355  DrugY\n",
              "1   47   M     LOW        HIGH   13.093  drugC\n",
              "2   47   M     LOW        HIGH   10.114  drugC\n",
              "3   28   F  NORMAL        HIGH    7.798  drugX\n",
              "4   61   F     LOW        HIGH   18.043  DrugY"
            ],
            "text/html": [
              "\n",
              "  <div id=\"df-4601079a-8043-4ad5-b3f2-380405e9417e\">\n",
              "    <div class=\"colab-df-container\">\n",
              "      <div>\n",
              "<style scoped>\n",
              "    .dataframe tbody tr th:only-of-type {\n",
              "        vertical-align: middle;\n",
              "    }\n",
              "\n",
              "    .dataframe tbody tr th {\n",
              "        vertical-align: top;\n",
              "    }\n",
              "\n",
              "    .dataframe thead th {\n",
              "        text-align: right;\n",
              "    }\n",
              "</style>\n",
              "<table border=\"1\" class=\"dataframe\">\n",
              "  <thead>\n",
              "    <tr style=\"text-align: right;\">\n",
              "      <th></th>\n",
              "      <th>Age</th>\n",
              "      <th>Sex</th>\n",
              "      <th>BP</th>\n",
              "      <th>Cholesterol</th>\n",
              "      <th>Na_to_K</th>\n",
              "      <th>Drug</th>\n",
              "    </tr>\n",
              "  </thead>\n",
              "  <tbody>\n",
              "    <tr>\n",
              "      <th>0</th>\n",
              "      <td>23</td>\n",
              "      <td>F</td>\n",
              "      <td>HIGH</td>\n",
              "      <td>HIGH</td>\n",
              "      <td>25.355</td>\n",
              "      <td>DrugY</td>\n",
              "    </tr>\n",
              "    <tr>\n",
              "      <th>1</th>\n",
              "      <td>47</td>\n",
              "      <td>M</td>\n",
              "      <td>LOW</td>\n",
              "      <td>HIGH</td>\n",
              "      <td>13.093</td>\n",
              "      <td>drugC</td>\n",
              "    </tr>\n",
              "    <tr>\n",
              "      <th>2</th>\n",
              "      <td>47</td>\n",
              "      <td>M</td>\n",
              "      <td>LOW</td>\n",
              "      <td>HIGH</td>\n",
              "      <td>10.114</td>\n",
              "      <td>drugC</td>\n",
              "    </tr>\n",
              "    <tr>\n",
              "      <th>3</th>\n",
              "      <td>28</td>\n",
              "      <td>F</td>\n",
              "      <td>NORMAL</td>\n",
              "      <td>HIGH</td>\n",
              "      <td>7.798</td>\n",
              "      <td>drugX</td>\n",
              "    </tr>\n",
              "    <tr>\n",
              "      <th>4</th>\n",
              "      <td>61</td>\n",
              "      <td>F</td>\n",
              "      <td>LOW</td>\n",
              "      <td>HIGH</td>\n",
              "      <td>18.043</td>\n",
              "      <td>DrugY</td>\n",
              "    </tr>\n",
              "  </tbody>\n",
              "</table>\n",
              "</div>\n",
              "      <button class=\"colab-df-convert\" onclick=\"convertToInteractive('df-4601079a-8043-4ad5-b3f2-380405e9417e')\"\n",
              "              title=\"Convert this dataframe to an interactive table.\"\n",
              "              style=\"display:none;\">\n",
              "        \n",
              "  <svg xmlns=\"http://www.w3.org/2000/svg\" height=\"24px\"viewBox=\"0 0 24 24\"\n",
              "       width=\"24px\">\n",
              "    <path d=\"M0 0h24v24H0V0z\" fill=\"none\"/>\n",
              "    <path d=\"M18.56 5.44l.94 2.06.94-2.06 2.06-.94-2.06-.94-.94-2.06-.94 2.06-2.06.94zm-11 1L8.5 8.5l.94-2.06 2.06-.94-2.06-.94L8.5 2.5l-.94 2.06-2.06.94zm10 10l.94 2.06.94-2.06 2.06-.94-2.06-.94-.94-2.06-.94 2.06-2.06.94z\"/><path d=\"M17.41 7.96l-1.37-1.37c-.4-.4-.92-.59-1.43-.59-.52 0-1.04.2-1.43.59L10.3 9.45l-7.72 7.72c-.78.78-.78 2.05 0 2.83L4 21.41c.39.39.9.59 1.41.59.51 0 1.02-.2 1.41-.59l7.78-7.78 2.81-2.81c.8-.78.8-2.07 0-2.86zM5.41 20L4 18.59l7.72-7.72 1.47 1.35L5.41 20z\"/>\n",
              "  </svg>\n",
              "      </button>\n",
              "      \n",
              "  <style>\n",
              "    .colab-df-container {\n",
              "      display:flex;\n",
              "      flex-wrap:wrap;\n",
              "      gap: 12px;\n",
              "    }\n",
              "\n",
              "    .colab-df-convert {\n",
              "      background-color: #E8F0FE;\n",
              "      border: none;\n",
              "      border-radius: 50%;\n",
              "      cursor: pointer;\n",
              "      display: none;\n",
              "      fill: #1967D2;\n",
              "      height: 32px;\n",
              "      padding: 0 0 0 0;\n",
              "      width: 32px;\n",
              "    }\n",
              "\n",
              "    .colab-df-convert:hover {\n",
              "      background-color: #E2EBFA;\n",
              "      box-shadow: 0px 1px 2px rgba(60, 64, 67, 0.3), 0px 1px 3px 1px rgba(60, 64, 67, 0.15);\n",
              "      fill: #174EA6;\n",
              "    }\n",
              "\n",
              "    [theme=dark] .colab-df-convert {\n",
              "      background-color: #3B4455;\n",
              "      fill: #D2E3FC;\n",
              "    }\n",
              "\n",
              "    [theme=dark] .colab-df-convert:hover {\n",
              "      background-color: #434B5C;\n",
              "      box-shadow: 0px 1px 3px 1px rgba(0, 0, 0, 0.15);\n",
              "      filter: drop-shadow(0px 1px 2px rgba(0, 0, 0, 0.3));\n",
              "      fill: #FFFFFF;\n",
              "    }\n",
              "  </style>\n",
              "\n",
              "      <script>\n",
              "        const buttonEl =\n",
              "          document.querySelector('#df-4601079a-8043-4ad5-b3f2-380405e9417e button.colab-df-convert');\n",
              "        buttonEl.style.display =\n",
              "          google.colab.kernel.accessAllowed ? 'block' : 'none';\n",
              "\n",
              "        async function convertToInteractive(key) {\n",
              "          const element = document.querySelector('#df-4601079a-8043-4ad5-b3f2-380405e9417e');\n",
              "          const dataTable =\n",
              "            await google.colab.kernel.invokeFunction('convertToInteractive',\n",
              "                                                     [key], {});\n",
              "          if (!dataTable) return;\n",
              "\n",
              "          const docLinkHtml = 'Like what you see? Visit the ' +\n",
              "            '<a target=\"_blank\" href=https://colab.research.google.com/notebooks/data_table.ipynb>data table notebook</a>'\n",
              "            + ' to learn more about interactive tables.';\n",
              "          element.innerHTML = '';\n",
              "          dataTable['output_type'] = 'display_data';\n",
              "          await google.colab.output.renderOutput(dataTable, element);\n",
              "          const docLink = document.createElement('div');\n",
              "          docLink.innerHTML = docLinkHtml;\n",
              "          element.appendChild(docLink);\n",
              "        }\n",
              "      </script>\n",
              "    </div>\n",
              "  </div>\n",
              "  "
            ]
          },
          "metadata": {},
          "execution_count": 167
        }
      ],
      "source": [
        "df = pd.read_csv('drug200.csv.xls')\n",
        "df.head()"
      ]
    },
    {
      "cell_type": "markdown",
      "id": "1bceb97c",
      "metadata": {
        "papermill": {
          "duration": 0.011364,
          "end_time": "2023-01-01T15:51:28.558640",
          "exception": false,
          "start_time": "2023-01-01T15:51:28.547276",
          "status": "completed"
        },
        "tags": [],
        "id": "1bceb97c"
      },
      "source": [
        "# Preprocessing Categorical Columns "
      ]
    },
    {
      "cell_type": "code",
      "execution_count": null,
      "id": "da82af6c",
      "metadata": {
        "execution": {
          "iopub.execute_input": "2023-01-01T15:51:28.584108Z",
          "iopub.status.busy": "2023-01-01T15:51:28.583637Z",
          "iopub.status.idle": "2023-01-01T15:51:28.597110Z",
          "shell.execute_reply": "2023-01-01T15:51:28.595875Z"
        },
        "papermill": {
          "duration": 0.028889,
          "end_time": "2023-01-01T15:51:28.599394",
          "exception": false,
          "start_time": "2023-01-01T15:51:28.570505",
          "status": "completed"
        },
        "tags": [],
        "colab": {
          "base_uri": "https://localhost:8080/"
        },
        "id": "da82af6c",
        "outputId": "e52af009-9ba2-4312-8452-3b46ff317423"
      },
      "outputs": [
        {
          "output_type": "execute_result",
          "data": {
            "text/plain": [
              "5"
            ]
          },
          "metadata": {},
          "execution_count": 168
        }
      ],
      "source": [
        "df['Drug'].nunique()"
      ]
    },
    {
      "cell_type": "code",
      "execution_count": null,
      "id": "f13de51c",
      "metadata": {
        "execution": {
          "iopub.execute_input": "2023-01-01T15:51:28.625549Z",
          "iopub.status.busy": "2023-01-01T15:51:28.624401Z",
          "iopub.status.idle": "2023-01-01T15:51:28.631806Z",
          "shell.execute_reply": "2023-01-01T15:51:28.631009Z"
        },
        "papermill": {
          "duration": 0.023136,
          "end_time": "2023-01-01T15:51:28.634301",
          "exception": false,
          "start_time": "2023-01-01T15:51:28.611165",
          "status": "completed"
        },
        "tags": [],
        "colab": {
          "base_uri": "https://localhost:8080/"
        },
        "id": "f13de51c",
        "outputId": "0e98fcfb-10f5-48cf-ef11-b0660029d50a"
      },
      "outputs": [
        {
          "output_type": "execute_result",
          "data": {
            "text/plain": [
              "array(['DrugY', 'drugC', 'drugX', 'drugA', 'drugB'], dtype=object)"
            ]
          },
          "metadata": {},
          "execution_count": 169
        }
      ],
      "source": [
        "df['Drug'].unique()"
      ]
    },
    {
      "cell_type": "code",
      "execution_count": null,
      "id": "b53f79d7",
      "metadata": {
        "execution": {
          "iopub.execute_input": "2023-01-01T15:51:28.660793Z",
          "iopub.status.busy": "2023-01-01T15:51:28.660412Z",
          "iopub.status.idle": "2023-01-01T15:51:28.667621Z",
          "shell.execute_reply": "2023-01-01T15:51:28.666488Z"
        },
        "papermill": {
          "duration": 0.023115,
          "end_time": "2023-01-01T15:51:28.669993",
          "exception": false,
          "start_time": "2023-01-01T15:51:28.646878",
          "status": "completed"
        },
        "tags": [],
        "colab": {
          "base_uri": "https://localhost:8080/"
        },
        "id": "b53f79d7",
        "outputId": "f961cd0b-e80c-481f-d148-a1b8aeb5cc74"
      },
      "outputs": [
        {
          "output_type": "execute_result",
          "data": {
            "text/plain": [
              "array(['HIGH', 'NORMAL'], dtype=object)"
            ]
          },
          "metadata": {},
          "execution_count": 170
        }
      ],
      "source": [
        "df['Cholesterol'].unique()"
      ]
    },
    {
      "cell_type": "code",
      "execution_count": null,
      "id": "b628a387",
      "metadata": {
        "execution": {
          "iopub.execute_input": "2023-01-01T15:51:28.695717Z",
          "iopub.status.busy": "2023-01-01T15:51:28.695250Z",
          "iopub.status.idle": "2023-01-01T15:51:28.702694Z",
          "shell.execute_reply": "2023-01-01T15:51:28.701516Z"
        },
        "papermill": {
          "duration": 0.022971,
          "end_time": "2023-01-01T15:51:28.705020",
          "exception": false,
          "start_time": "2023-01-01T15:51:28.682049",
          "status": "completed"
        },
        "tags": [],
        "colab": {
          "base_uri": "https://localhost:8080/"
        },
        "id": "b628a387",
        "outputId": "935173f4-5002-4250-f07d-4c1e1b561c29"
      },
      "outputs": [
        {
          "output_type": "execute_result",
          "data": {
            "text/plain": [
              "array(['HIGH', 'LOW', 'NORMAL'], dtype=object)"
            ]
          },
          "metadata": {},
          "execution_count": 171
        }
      ],
      "source": [
        "df[\"BP\"].unique()"
      ]
    },
    {
      "cell_type": "code",
      "execution_count": null,
      "id": "d1cc1883",
      "metadata": {
        "execution": {
          "iopub.execute_input": "2023-01-01T15:51:28.731564Z",
          "iopub.status.busy": "2023-01-01T15:51:28.731172Z",
          "iopub.status.idle": "2023-01-01T15:51:28.738388Z",
          "shell.execute_reply": "2023-01-01T15:51:28.737221Z"
        },
        "papermill": {
          "duration": 0.022966,
          "end_time": "2023-01-01T15:51:28.740619",
          "exception": false,
          "start_time": "2023-01-01T15:51:28.717653",
          "status": "completed"
        },
        "tags": [],
        "colab": {
          "base_uri": "https://localhost:8080/"
        },
        "id": "d1cc1883",
        "outputId": "a1704915-af73-4d90-ed11-e5b95774d2e2"
      },
      "outputs": [
        {
          "output_type": "execute_result",
          "data": {
            "text/plain": [
              "array(['F', 'M'], dtype=object)"
            ]
          },
          "metadata": {},
          "execution_count": 172
        }
      ],
      "source": [
        "df['Sex'].unique()"
      ]
    },
    {
      "cell_type": "code",
      "execution_count": null,
      "id": "aead6bfc",
      "metadata": {
        "execution": {
          "iopub.execute_input": "2023-01-01T15:51:28.766497Z",
          "iopub.status.busy": "2023-01-01T15:51:28.766110Z",
          "iopub.status.idle": "2023-01-01T15:51:28.773964Z",
          "shell.execute_reply": "2023-01-01T15:51:28.773052Z"
        },
        "papermill": {
          "duration": 0.023608,
          "end_time": "2023-01-01T15:51:28.776276",
          "exception": false,
          "start_time": "2023-01-01T15:51:28.752668",
          "status": "completed"
        },
        "tags": [],
        "id": "aead6bfc"
      },
      "outputs": [],
      "source": [
        "le1 = preprocessing.LabelEncoder()\n",
        "df['Drug']= le1.fit_transform(df['Drug'])\n",
        "df['Cholesterol']= le1.fit_transform(df['Cholesterol'])\n",
        "df['BP']= le1.fit_transform(df['BP'])\n",
        "df['Sex']= le1.fit_transform(df['Sex'])"
      ]
    },
    {
      "cell_type": "code",
      "execution_count": null,
      "id": "8b1bf308",
      "metadata": {
        "execution": {
          "iopub.execute_input": "2023-01-01T15:51:28.803537Z",
          "iopub.status.busy": "2023-01-01T15:51:28.803166Z",
          "iopub.status.idle": "2023-01-01T15:51:28.814570Z",
          "shell.execute_reply": "2023-01-01T15:51:28.813790Z"
        },
        "papermill": {
          "duration": 0.027523,
          "end_time": "2023-01-01T15:51:28.816658",
          "exception": false,
          "start_time": "2023-01-01T15:51:28.789135",
          "status": "completed"
        },
        "tags": [],
        "colab": {
          "base_uri": "https://localhost:8080/",
          "height": 204
        },
        "id": "8b1bf308",
        "outputId": "e5e07982-fbd3-40d8-baa2-647c24d2be91"
      },
      "outputs": [
        {
          "output_type": "execute_result",
          "data": {
            "text/plain": [
              "   Age  Sex  BP  Cholesterol  Na_to_K  Drug\n",
              "0   23    0   0            0   25.355     0\n",
              "1   47    1   1            0   13.093     3\n",
              "2   47    1   1            0   10.114     3\n",
              "3   28    0   2            0    7.798     4\n",
              "4   61    0   1            0   18.043     0"
            ],
            "text/html": [
              "\n",
              "  <div id=\"df-f0134a1c-c035-4484-9683-ade01a81d524\">\n",
              "    <div class=\"colab-df-container\">\n",
              "      <div>\n",
              "<style scoped>\n",
              "    .dataframe tbody tr th:only-of-type {\n",
              "        vertical-align: middle;\n",
              "    }\n",
              "\n",
              "    .dataframe tbody tr th {\n",
              "        vertical-align: top;\n",
              "    }\n",
              "\n",
              "    .dataframe thead th {\n",
              "        text-align: right;\n",
              "    }\n",
              "</style>\n",
              "<table border=\"1\" class=\"dataframe\">\n",
              "  <thead>\n",
              "    <tr style=\"text-align: right;\">\n",
              "      <th></th>\n",
              "      <th>Age</th>\n",
              "      <th>Sex</th>\n",
              "      <th>BP</th>\n",
              "      <th>Cholesterol</th>\n",
              "      <th>Na_to_K</th>\n",
              "      <th>Drug</th>\n",
              "    </tr>\n",
              "  </thead>\n",
              "  <tbody>\n",
              "    <tr>\n",
              "      <th>0</th>\n",
              "      <td>23</td>\n",
              "      <td>0</td>\n",
              "      <td>0</td>\n",
              "      <td>0</td>\n",
              "      <td>25.355</td>\n",
              "      <td>0</td>\n",
              "    </tr>\n",
              "    <tr>\n",
              "      <th>1</th>\n",
              "      <td>47</td>\n",
              "      <td>1</td>\n",
              "      <td>1</td>\n",
              "      <td>0</td>\n",
              "      <td>13.093</td>\n",
              "      <td>3</td>\n",
              "    </tr>\n",
              "    <tr>\n",
              "      <th>2</th>\n",
              "      <td>47</td>\n",
              "      <td>1</td>\n",
              "      <td>1</td>\n",
              "      <td>0</td>\n",
              "      <td>10.114</td>\n",
              "      <td>3</td>\n",
              "    </tr>\n",
              "    <tr>\n",
              "      <th>3</th>\n",
              "      <td>28</td>\n",
              "      <td>0</td>\n",
              "      <td>2</td>\n",
              "      <td>0</td>\n",
              "      <td>7.798</td>\n",
              "      <td>4</td>\n",
              "    </tr>\n",
              "    <tr>\n",
              "      <th>4</th>\n",
              "      <td>61</td>\n",
              "      <td>0</td>\n",
              "      <td>1</td>\n",
              "      <td>0</td>\n",
              "      <td>18.043</td>\n",
              "      <td>0</td>\n",
              "    </tr>\n",
              "  </tbody>\n",
              "</table>\n",
              "</div>\n",
              "      <button class=\"colab-df-convert\" onclick=\"convertToInteractive('df-f0134a1c-c035-4484-9683-ade01a81d524')\"\n",
              "              title=\"Convert this dataframe to an interactive table.\"\n",
              "              style=\"display:none;\">\n",
              "        \n",
              "  <svg xmlns=\"http://www.w3.org/2000/svg\" height=\"24px\"viewBox=\"0 0 24 24\"\n",
              "       width=\"24px\">\n",
              "    <path d=\"M0 0h24v24H0V0z\" fill=\"none\"/>\n",
              "    <path d=\"M18.56 5.44l.94 2.06.94-2.06 2.06-.94-2.06-.94-.94-2.06-.94 2.06-2.06.94zm-11 1L8.5 8.5l.94-2.06 2.06-.94-2.06-.94L8.5 2.5l-.94 2.06-2.06.94zm10 10l.94 2.06.94-2.06 2.06-.94-2.06-.94-.94-2.06-.94 2.06-2.06.94z\"/><path d=\"M17.41 7.96l-1.37-1.37c-.4-.4-.92-.59-1.43-.59-.52 0-1.04.2-1.43.59L10.3 9.45l-7.72 7.72c-.78.78-.78 2.05 0 2.83L4 21.41c.39.39.9.59 1.41.59.51 0 1.02-.2 1.41-.59l7.78-7.78 2.81-2.81c.8-.78.8-2.07 0-2.86zM5.41 20L4 18.59l7.72-7.72 1.47 1.35L5.41 20z\"/>\n",
              "  </svg>\n",
              "      </button>\n",
              "      \n",
              "  <style>\n",
              "    .colab-df-container {\n",
              "      display:flex;\n",
              "      flex-wrap:wrap;\n",
              "      gap: 12px;\n",
              "    }\n",
              "\n",
              "    .colab-df-convert {\n",
              "      background-color: #E8F0FE;\n",
              "      border: none;\n",
              "      border-radius: 50%;\n",
              "      cursor: pointer;\n",
              "      display: none;\n",
              "      fill: #1967D2;\n",
              "      height: 32px;\n",
              "      padding: 0 0 0 0;\n",
              "      width: 32px;\n",
              "    }\n",
              "\n",
              "    .colab-df-convert:hover {\n",
              "      background-color: #E2EBFA;\n",
              "      box-shadow: 0px 1px 2px rgba(60, 64, 67, 0.3), 0px 1px 3px 1px rgba(60, 64, 67, 0.15);\n",
              "      fill: #174EA6;\n",
              "    }\n",
              "\n",
              "    [theme=dark] .colab-df-convert {\n",
              "      background-color: #3B4455;\n",
              "      fill: #D2E3FC;\n",
              "    }\n",
              "\n",
              "    [theme=dark] .colab-df-convert:hover {\n",
              "      background-color: #434B5C;\n",
              "      box-shadow: 0px 1px 3px 1px rgba(0, 0, 0, 0.15);\n",
              "      filter: drop-shadow(0px 1px 2px rgba(0, 0, 0, 0.3));\n",
              "      fill: #FFFFFF;\n",
              "    }\n",
              "  </style>\n",
              "\n",
              "      <script>\n",
              "        const buttonEl =\n",
              "          document.querySelector('#df-f0134a1c-c035-4484-9683-ade01a81d524 button.colab-df-convert');\n",
              "        buttonEl.style.display =\n",
              "          google.colab.kernel.accessAllowed ? 'block' : 'none';\n",
              "\n",
              "        async function convertToInteractive(key) {\n",
              "          const element = document.querySelector('#df-f0134a1c-c035-4484-9683-ade01a81d524');\n",
              "          const dataTable =\n",
              "            await google.colab.kernel.invokeFunction('convertToInteractive',\n",
              "                                                     [key], {});\n",
              "          if (!dataTable) return;\n",
              "\n",
              "          const docLinkHtml = 'Like what you see? Visit the ' +\n",
              "            '<a target=\"_blank\" href=https://colab.research.google.com/notebooks/data_table.ipynb>data table notebook</a>'\n",
              "            + ' to learn more about interactive tables.';\n",
              "          element.innerHTML = '';\n",
              "          dataTable['output_type'] = 'display_data';\n",
              "          await google.colab.output.renderOutput(dataTable, element);\n",
              "          const docLink = document.createElement('div');\n",
              "          docLink.innerHTML = docLinkHtml;\n",
              "          element.appendChild(docLink);\n",
              "        }\n",
              "      </script>\n",
              "    </div>\n",
              "  </div>\n",
              "  "
            ]
          },
          "metadata": {},
          "execution_count": 174
        }
      ],
      "source": [
        "df.head()"
      ]
    },
    {
      "cell_type": "code",
      "execution_count": null,
      "id": "d46b6036",
      "metadata": {
        "execution": {
          "iopub.execute_input": "2023-01-01T15:51:28.845179Z",
          "iopub.status.busy": "2023-01-01T15:51:28.844690Z",
          "iopub.status.idle": "2023-01-01T15:51:28.851499Z",
          "shell.execute_reply": "2023-01-01T15:51:28.850394Z"
        },
        "papermill": {
          "duration": 0.023894,
          "end_time": "2023-01-01T15:51:28.853714",
          "exception": false,
          "start_time": "2023-01-01T15:51:28.829820",
          "status": "completed"
        },
        "tags": [],
        "colab": {
          "base_uri": "https://localhost:8080/"
        },
        "id": "d46b6036",
        "outputId": "6d0b16bd-808b-43b9-a32d-00a3c818ed16"
      },
      "outputs": [
        {
          "output_type": "execute_result",
          "data": {
            "text/plain": [
              "200"
            ]
          },
          "metadata": {},
          "execution_count": 175
        }
      ],
      "source": [
        "len(df)"
      ]
    },
    {
      "cell_type": "markdown",
      "id": "5ef00ce7",
      "metadata": {
        "papermill": {
          "duration": 0.012537,
          "end_time": "2023-01-01T15:51:28.879345",
          "exception": false,
          "start_time": "2023-01-01T15:51:28.866808",
          "status": "completed"
        },
        "tags": [],
        "id": "5ef00ce7"
      },
      "source": [
        "# Exploring The Data "
      ]
    },
    {
      "cell_type": "markdown",
      "id": "c66298e7",
      "metadata": {
        "papermill": {
          "duration": 0.012017,
          "end_time": "2023-01-01T15:51:28.904168",
          "exception": false,
          "start_time": "2023-01-01T15:51:28.892151",
          "status": "completed"
        },
        "tags": [],
        "id": "c66298e7"
      },
      "source": [
        "# Inference 1: \n",
        "I think that Drug 0 has higher usage than the rest... \n",
        "\n",
        "Possible Reasons:\n",
        "- Data is biased in the dataset \n",
        "- Drug 0 is widely available or most effective or has less side effect or other medical reasons.\n",
        "\n",
        "This cannot be cleared for now as we need medical professionals to handle this and to give more insights about the other drugs. "
      ]
    },
    {
      "cell_type": "code",
      "execution_count": null,
      "id": "efe0dcdc",
      "metadata": {
        "execution": {
          "iopub.execute_input": "2023-01-01T15:51:28.930686Z",
          "iopub.status.busy": "2023-01-01T15:51:28.930270Z",
          "iopub.status.idle": "2023-01-01T15:51:29.145705Z",
          "shell.execute_reply": "2023-01-01T15:51:29.144839Z"
        },
        "papermill": {
          "duration": 0.232869,
          "end_time": "2023-01-01T15:51:29.149387",
          "exception": false,
          "start_time": "2023-01-01T15:51:28.916518",
          "status": "completed"
        },
        "tags": [],
        "colab": {
          "base_uri": "https://localhost:8080/",
          "height": 265
        },
        "id": "efe0dcdc",
        "outputId": "98b46392-344c-43f9-e18f-ab3345a8d8ed"
      },
      "outputs": [
        {
          "output_type": "display_data",
          "data": {
            "text/plain": [
              "<Figure size 432x288 with 1 Axes>"
            ],
            "image/png": "[encoded data removed]"
          },
          "metadata": {}
        }
      ],
      "source": [
        "df[\"Drug\"].value_counts().plot(kind=\"bar\");"
      ]
    },
    {
      "cell_type": "markdown",
      "id": "68c3033b",
      "metadata": {
        "papermill": {
          "duration": 0.012404,
          "end_time": "2023-01-01T15:51:29.175991",
          "exception": false,
          "start_time": "2023-01-01T15:51:29.163587",
          "status": "completed"
        },
        "tags": [],
        "id": "68c3033b"
      },
      "source": [
        "# Inference 2: \n",
        "Data Distribution over high and normal cholesterol levels are similar. That's good!"
      ]
    },
    {
      "cell_type": "code",
      "execution_count": null,
      "id": "3c54139b",
      "metadata": {
        "execution": {
          "iopub.execute_input": "2023-01-01T15:51:29.203552Z",
          "iopub.status.busy": "2023-01-01T15:51:29.202420Z",
          "iopub.status.idle": "2023-01-01T15:51:29.342973Z",
          "shell.execute_reply": "2023-01-01T15:51:29.341465Z"
        },
        "papermill": {
          "duration": 0.158428,
          "end_time": "2023-01-01T15:51:29.347032",
          "exception": false,
          "start_time": "2023-01-01T15:51:29.188604",
          "status": "completed"
        },
        "tags": [],
        "colab": {
          "base_uri": "https://localhost:8080/",
          "height": 265
        },
        "id": "3c54139b",
        "outputId": "0835857e-b7c0-4189-87fb-a9ac7f770371"
      },
      "outputs": [
        {
          "output_type": "display_data",
          "data": {
            "text/plain": [
              "<Figure size 432x288 with 1 Axes>"
            ],
            "image/png": "[encoded data removed]"
          },
          "metadata": {}
        }
      ],
      "source": [
        "df[\"Cholesterol\"].value_counts().plot(kind=\"bar\");"
      ]
    },
    {
      "cell_type": "markdown",
      "id": "578d5842",
      "metadata": {
        "papermill": {
          "duration": 0.012568,
          "end_time": "2023-01-01T15:51:29.375230",
          "exception": false,
          "start_time": "2023-01-01T15:51:29.362662",
          "status": "completed"
        },
        "tags": [],
        "id": "578d5842"
      },
      "source": [
        "# Inference 3: \n",
        "Data Distribution over the feature BP is also similar. "
      ]
    },
    {
      "cell_type": "code",
      "execution_count": null,
      "id": "e8913058",
      "metadata": {
        "execution": {
          "iopub.execute_input": "2023-01-01T15:51:29.403272Z",
          "iopub.status.busy": "2023-01-01T15:51:29.402083Z",
          "iopub.status.idle": "2023-01-01T15:51:29.616738Z",
          "shell.execute_reply": "2023-01-01T15:51:29.615949Z"
        },
        "papermill": {
          "duration": 0.231162,
          "end_time": "2023-01-01T15:51:29.619151",
          "exception": false,
          "start_time": "2023-01-01T15:51:29.387989",
          "status": "completed"
        },
        "tags": [],
        "colab": {
          "base_uri": "https://localhost:8080/",
          "height": 267
        },
        "id": "e8913058",
        "outputId": "d0cc5d06-9d77-4eae-b48e-05f31509b645"
      },
      "outputs": [
        {
          "output_type": "display_data",
          "data": {
            "text/plain": [
              "<Figure size 432x288 with 1 Axes>"
            ],
            "image/png": "[encoded data removed]"
          },
          "metadata": {}
        }
      ],
      "source": [
        "df[\"BP\"].value_counts().plot(kind=\"bar\");"
      ]
    },
    {
      "cell_type": "markdown",
      "id": "b90f826d",
      "metadata": {
        "papermill": {
          "duration": 0.014422,
          "end_time": "2023-01-01T15:51:29.648427",
          "exception": false,
          "start_time": "2023-01-01T15:51:29.634005",
          "status": "completed"
        },
        "tags": [],
        "id": "b90f826d"
      },
      "source": [
        "# Inference 4: \n",
        "Data distribution over the sex feature is also similar. "
      ]
    },
    {
      "cell_type": "code",
      "execution_count": null,
      "id": "7f1e8f9e",
      "metadata": {
        "execution": {
          "iopub.execute_input": "2023-01-01T15:51:29.679996Z",
          "iopub.status.busy": "2023-01-01T15:51:29.679551Z",
          "iopub.status.idle": "2023-01-01T15:51:29.878661Z",
          "shell.execute_reply": "2023-01-01T15:51:29.877140Z"
        },
        "papermill": {
          "duration": 0.218308,
          "end_time": "2023-01-01T15:51:29.881545",
          "exception": false,
          "start_time": "2023-01-01T15:51:29.663237",
          "status": "completed"
        },
        "tags": [],
        "colab": {
          "base_uri": "https://localhost:8080/",
          "height": 265
        },
        "id": "7f1e8f9e",
        "outputId": "fc39d4db-68cc-4572-f70d-8910806b2723"
      },
      "outputs": [
        {
          "output_type": "display_data",
          "data": {
            "text/plain": [
              "<Figure size 432x288 with 1 Axes>"
            ],
            "image/png": "[encoded data removed]"
          },
          "metadata": {}
        }
      ],
      "source": [
        "df[\"Sex\"].value_counts().plot(kind=\"bar\");"
      ]
    },
    {
      "cell_type": "code",
      "execution_count": null,
      "id": "9b09decd",
      "metadata": {
        "execution": {
          "iopub.execute_input": "2023-01-01T15:51:29.912106Z",
          "iopub.status.busy": "2023-01-01T15:51:29.911664Z",
          "iopub.status.idle": "2023-01-01T15:51:29.929872Z",
          "shell.execute_reply": "2023-01-01T15:51:29.928330Z"
        },
        "papermill": {
          "duration": 0.036064,
          "end_time": "2023-01-01T15:51:29.932240",
          "exception": false,
          "start_time": "2023-01-01T15:51:29.896176",
          "status": "completed"
        },
        "tags": [],
        "colab": {
          "base_uri": "https://localhost:8080/"
        },
        "id": "9b09decd",
        "outputId": "625b6672-83d0-4588-804f-83b3f9fd7598"
      },
      "outputs": [
        {
          "output_type": "stream",
          "name": "stdout",
          "text": [
            "<class 'pandas.core.frame.DataFrame'>\n",
            "RangeIndex: 200 entries, 0 to 199\n",
            "Data columns (total 6 columns):\n",
            " #   Column       Non-Null Count  Dtype  \n",
            "---  ------       --------------  -----  \n",
            " 0   Age          200 non-null    int64  \n",
            " 1   Sex          200 non-null    int64  \n",
            " 2   BP           200 non-null    int64  \n",
            " 3   Cholesterol  200 non-null    int64  \n",
            " 4   Na_to_K      200 non-null    float64\n",
            " 5   Drug         200 non-null    int64  \n",
            "dtypes: float64(1), int64(5)\n",
            "memory usage: 9.5 KB\n"
          ]
        }
      ],
      "source": [
        "# Data columns\n",
        "df.info()"
      ]
    },
    {
      "cell_type": "code",
      "execution_count": null,
      "id": "f43cb7ce",
      "metadata": {
        "execution": {
          "iopub.execute_input": "2023-01-01T15:51:29.963822Z",
          "iopub.status.busy": "2023-01-01T15:51:29.962753Z",
          "iopub.status.idle": "2023-01-01T15:51:29.973517Z",
          "shell.execute_reply": "2023-01-01T15:51:29.972415Z"
        },
        "papermill": {
          "duration": 0.029395,
          "end_time": "2023-01-01T15:51:29.975849",
          "exception": false,
          "start_time": "2023-01-01T15:51:29.946454",
          "status": "completed"
        },
        "tags": [],
        "colab": {
          "base_uri": "https://localhost:8080/"
        },
        "id": "f43cb7ce",
        "outputId": "fadf574d-909d-4e8b-bed5-c5ed471f494a"
      },
      "outputs": [
        {
          "output_type": "execute_result",
          "data": {
            "text/plain": [
              "Age            0\n",
              "Sex            0\n",
              "BP             0\n",
              "Cholesterol    0\n",
              "Na_to_K        0\n",
              "Drug           0\n",
              "dtype: int64"
            ]
          },
          "metadata": {},
          "execution_count": 181
        }
      ],
      "source": [
        "# Are there any missing values?\n",
        "df.isna().sum()\n",
        "# There are none!"
      ]
    },
    {
      "cell_type": "code",
      "execution_count": null,
      "id": "2c549999",
      "metadata": {
        "execution": {
          "iopub.execute_input": "2023-01-01T15:51:30.005854Z",
          "iopub.status.busy": "2023-01-01T15:51:30.005438Z",
          "iopub.status.idle": "2023-01-01T15:51:30.038419Z",
          "shell.execute_reply": "2023-01-01T15:51:30.037186Z"
        },
        "papermill": {
          "duration": 0.050913,
          "end_time": "2023-01-01T15:51:30.040756",
          "exception": false,
          "start_time": "2023-01-01T15:51:29.989843",
          "status": "completed"
        },
        "tags": [],
        "colab": {
          "base_uri": "https://localhost:8080/",
          "height": 297
        },
        "id": "2c549999",
        "outputId": "a5df9fe0-e11e-4d81-c46f-390f8a4fd7c6"
      },
      "outputs": [
        {
          "output_type": "execute_result",
          "data": {
            "text/plain": [
              "              Age         Sex          BP  Cholesterol     Na_to_K        Drug\n",
              "count  200.000000  200.000000  200.000000   200.000000  200.000000  200.000000\n",
              "mean    44.315000    0.520000    0.910000     0.485000   16.084485    1.595000\n",
              "std     16.544315    0.500854    0.821752     0.501029    7.223956    1.716305\n",
              "min     15.000000    0.000000    0.000000     0.000000    6.269000    0.000000\n",
              "25%     31.000000    0.000000    0.000000     0.000000   10.445500    0.000000\n",
              "50%     45.000000    1.000000    1.000000     0.000000   13.936500    1.000000\n",
              "75%     58.000000    1.000000    2.000000     1.000000   19.380000    4.000000\n",
              "max     74.000000    1.000000    2.000000     1.000000   38.247000    4.000000"
            ],
            "text/html": [
              "\n",
              "  <div id=\"df-c99059a0-cecd-4e5e-8e4d-4330089b032a\">\n",
              "    <div class=\"colab-df-container\">\n",
              "      <div>\n",
              "<style scoped>\n",
              "    .dataframe tbody tr th:only-of-type {\n",
              "        vertical-align: middle;\n",
              "    }\n",
              "\n",
              "    .dataframe tbody tr th {\n",
              "        vertical-align: top;\n",
              "    }\n",
              "\n",
              "    .dataframe thead th {\n",
              "        text-align: right;\n",
              "    }\n",
              "</style>\n",
              "<table border=\"1\" class=\"dataframe\">\n",
              "  <thead>\n",
              "    <tr style=\"text-align: right;\">\n",
              "      <th></th>\n",
              "      <th>Age</th>\n",
              "      <th>Sex</th>\n",
              "      <th>BP</th>\n",
              "      <th>Cholesterol</th>\n",
              "      <th>Na_to_K</th>\n",
              "      <th>Drug</th>\n",
              "    </tr>\n",
              "  </thead>\n",
              "  <tbody>\n",
              "    <tr>\n",
              "      <th>count</th>\n",
              "      <td>200.000000</td>\n",
              "      <td>200.000000</td>\n",
              "      <td>200.000000</td>\n",
              "      <td>200.000000</td>\n",
              "      <td>200.000000</td>\n",
              "      <td>200.000000</td>\n",
              "    </tr>\n",
              "    <tr>\n",
              "      <th>mean</th>\n",
              "      <td>44.315000</td>\n",
              "      <td>0.520000</td>\n",
              "      <td>0.910000</td>\n",
              "      <td>0.485000</td>\n",
              "      <td>16.084485</td>\n",
              "      <td>1.595000</td>\n",
              "    </tr>\n",
              "    <tr>\n",
              "      <th>std</th>\n",
              "      <td>16.544315</td>\n",
              "      <td>0.500854</td>\n",
              "      <td>0.821752</td>\n",
              "      <td>0.501029</td>\n",
              "      <td>7.223956</td>\n",
              "      <td>1.716305</td>\n",
              "    </tr>\n",
              "    <tr>\n",
              "      <th>min</th>\n",
              "      <td>15.000000</td>\n",
              "      <td>0.000000</td>\n",
              "      <td>0.000000</td>\n",
              "      <td>0.000000</td>\n",
              "      <td>6.269000</td>\n",
              "      <td>0.000000</td>\n",
              "    </tr>\n",
              "    <tr>\n",
              "      <th>25%</th>\n",
              "      <td>31.000000</td>\n",
              "      <td>0.000000</td>\n",
              "      <td>0.000000</td>\n",
              "      <td>0.000000</td>\n",
              "      <td>10.445500</td>\n",
              "      <td>0.000000</td>\n",
              "    </tr>\n",
              "    <tr>\n",
              "      <th>50%</th>\n",
              "      <td>45.000000</td>\n",
              "      <td>1.000000</td>\n",
              "      <td>1.000000</td>\n",
              "      <td>0.000000</td>\n",
              "      <td>13.936500</td>\n",
              "      <td>1.000000</td>\n",
              "    </tr>\n",
              "    <tr>\n",
              "      <th>75%</th>\n",
              "      <td>58.000000</td>\n",
              "      <td>1.000000</td>\n",
              "      <td>2.000000</td>\n",
              "      <td>1.000000</td>\n",
              "      <td>19.380000</td>\n",
              "      <td>4.000000</td>\n",
              "    </tr>\n",
              "    <tr>\n",
              "      <th>max</th>\n",
              "      <td>74.000000</td>\n",
              "      <td>1.000000</td>\n",
              "      <td>2.000000</td>\n",
              "      <td>1.000000</td>\n",
              "      <td>38.247000</td>\n",
              "      <td>4.000000</td>\n",
              "    </tr>\n",
              "  </tbody>\n",
              "</table>\n",
              "</div>\n",
              "      <button class=\"colab-df-convert\" onclick=\"convertToInteractive('df-c99059a0-cecd-4e5e-8e4d-4330089b032a')\"\n",
              "              title=\"Convert this dataframe to an interactive table.\"\n",
              "              style=\"display:none;\">\n",
              "        \n",
              "  <svg xmlns=\"http://www.w3.org/2000/svg\" height=\"24px\"viewBox=\"0 0 24 24\"\n",
              "       width=\"24px\">\n",
              "    <path d=\"M0 0h24v24H0V0z\" fill=\"none\"/>\n",
              "    <path d=\"M18.56 5.44l.94 2.06.94-2.06 2.06-.94-2.06-.94-.94-2.06-.94 2.06-2.06.94zm-11 1L8.5 8.5l.94-2.06 2.06-.94-2.06-.94L8.5 2.5l-.94 2.06-2.06.94zm10 10l.94 2.06.94-2.06 2.06-.94-2.06-.94-.94-2.06-.94 2.06-2.06.94z\"/><path d=\"M17.41 7.96l-1.37-1.37c-.4-.4-.92-.59-1.43-.59-.52 0-1.04.2-1.43.59L10.3 9.45l-7.72 7.72c-.78.78-.78 2.05 0 2.83L4 21.41c.39.39.9.59 1.41.59.51 0 1.02-.2 1.41-.59l7.78-7.78 2.81-2.81c.8-.78.8-2.07 0-2.86zM5.41 20L4 18.59l7.72-7.72 1.47 1.35L5.41 20z\"/>\n",
              "  </svg>\n",
              "      </button>\n",
              "      \n",
              "  <style>\n",
              "    .colab-df-container {\n",
              "      display:flex;\n",
              "      flex-wrap:wrap;\n",
              "      gap: 12px;\n",
              "    }\n",
              "\n",
              "    .colab-df-convert {\n",
              "      background-color: #E8F0FE;\n",
              "      border: none;\n",
              "      border-radius: 50%;\n",
              "      cursor: pointer;\n",
              "      display: none;\n",
              "      fill: #1967D2;\n",
              "      height: 32px;\n",
              "      padding: 0 0 0 0;\n",
              "      width: 32px;\n",
              "    }\n",
              "\n",
              "    .colab-df-convert:hover {\n",
              "      background-color: #E2EBFA;\n",
              "      box-shadow: 0px 1px 2px rgba(60, 64, 67, 0.3), 0px 1px 3px 1px rgba(60, 64, 67, 0.15);\n",
              "      fill: #174EA6;\n",
              "    }\n",
              "\n",
              "    [theme=dark] .colab-df-convert {\n",
              "      background-color: #3B4455;\n",
              "      fill: #D2E3FC;\n",
              "    }\n",
              "\n",
              "    [theme=dark] .colab-df-convert:hover {\n",
              "      background-color: #434B5C;\n",
              "      box-shadow: 0px 1px 3px 1px rgba(0, 0, 0, 0.15);\n",
              "      filter: drop-shadow(0px 1px 2px rgba(0, 0, 0, 0.3));\n",
              "      fill: #FFFFFF;\n",
              "    }\n",
              "  </style>\n",
              "\n",
              "      <script>\n",
              "        const buttonEl =\n",
              "          document.querySelector('#df-c99059a0-cecd-4e5e-8e4d-4330089b032a button.colab-df-convert');\n",
              "        buttonEl.style.display =\n",
              "          google.colab.kernel.accessAllowed ? 'block' : 'none';\n",
              "\n",
              "        async function convertToInteractive(key) {\n",
              "          const element = document.querySelector('#df-c99059a0-cecd-4e5e-8e4d-4330089b032a');\n",
              "          const dataTable =\n",
              "            await google.colab.kernel.invokeFunction('convertToInteractive',\n",
              "                                                     [key], {});\n",
              "          if (!dataTable) return;\n",
              "\n",
              "          const docLinkHtml = 'Like what you see? Visit the ' +\n",
              "            '<a target=\"_blank\" href=https://colab.research.google.com/notebooks/data_table.ipynb>data table notebook</a>'\n",
              "            + ' to learn more about interactive tables.';\n",
              "          element.innerHTML = '';\n",
              "          dataTable['output_type'] = 'display_data';\n",
              "          await google.colab.output.renderOutput(dataTable, element);\n",
              "          const docLink = document.createElement('div');\n",
              "          docLink.innerHTML = docLinkHtml;\n",
              "          element.appendChild(docLink);\n",
              "        }\n",
              "      </script>\n",
              "    </div>\n",
              "  </div>\n",
              "  "
            ]
          },
          "metadata": {},
          "execution_count": 182
        }
      ],
      "source": [
        "df.describe()"
      ]
    },
    {
      "cell_type": "markdown",
      "id": "712532be",
      "metadata": {
        "papermill": {
          "duration": 0.01389,
          "end_time": "2023-01-01T15:51:30.069056",
          "exception": false,
          "start_time": "2023-01-01T15:51:30.055166",
          "status": "completed"
        },
        "tags": [],
        "id": "712532be"
      },
      "source": [
        "# Deeper Exploration "
      ]
    },
    {
      "cell_type": "markdown",
      "id": "9e421411",
      "metadata": {
        "papermill": {
          "duration": 0.013942,
          "end_time": "2023-01-01T15:51:30.097010",
          "exception": false,
          "start_time": "2023-01-01T15:51:30.083068",
          "status": "completed"
        },
        "tags": [],
        "id": "9e421411"
      },
      "source": [
        "# 1. Drug Vs Sex"
      ]
    },
    {
      "cell_type": "code",
      "execution_count": null,
      "id": "3421e023",
      "metadata": {
        "execution": {
          "iopub.execute_input": "2023-01-01T15:51:30.127702Z",
          "iopub.status.busy": "2023-01-01T15:51:30.126456Z",
          "iopub.status.idle": "2023-01-01T15:51:30.155557Z",
          "shell.execute_reply": "2023-01-01T15:51:30.154357Z"
        },
        "papermill": {
          "duration": 0.04692,
          "end_time": "2023-01-01T15:51:30.157920",
          "exception": false,
          "start_time": "2023-01-01T15:51:30.111000",
          "status": "completed"
        },
        "tags": [],
        "colab": {
          "base_uri": "https://localhost:8080/",
          "height": 235
        },
        "id": "3421e023",
        "outputId": "ff23f4e0-af9e-458c-c58d-e9454f3c5d30"
      },
      "outputs": [
        {
          "output_type": "execute_result",
          "data": {
            "text/plain": [
              "Sex    0   1\n",
              "Drug        \n",
              "0     47  44\n",
              "1      9  14\n",
              "2      6  10\n",
              "3      7   9\n",
              "4     27  27"
            ],
            "text/html": [
              "\n",
              "  <div id=\"df-ae7d3422-2904-4b14-9474-54de36520e9f\">\n",
              "    <div class=\"colab-df-container\">\n",
              "      <div>\n",
              "<style scoped>\n",
              "    .dataframe tbody tr th:only-of-type {\n",
              "        vertical-align: middle;\n",
              "    }\n",
              "\n",
              "    .dataframe tbody tr th {\n",
              "        vertical-align: top;\n",
              "    }\n",
              "\n",
              "    .dataframe thead th {\n",
              "        text-align: right;\n",
              "    }\n",
              "</style>\n",
              "<table border=\"1\" class=\"dataframe\">\n",
              "  <thead>\n",
              "    <tr style=\"text-align: right;\">\n",
              "      <th>Sex</th>\n",
              "      <th>0</th>\n",
              "      <th>1</th>\n",
              "    </tr>\n",
              "    <tr>\n",
              "      <th>Drug</th>\n",
              "      <th></th>\n",
              "      <th></th>\n",
              "    </tr>\n",
              "  </thead>\n",
              "  <tbody>\n",
              "    <tr>\n",
              "      <th>0</th>\n",
              "      <td>47</td>\n",
              "      <td>44</td>\n",
              "    </tr>\n",
              "    <tr>\n",
              "      <th>1</th>\n",
              "      <td>9</td>\n",
              "      <td>14</td>\n",
              "    </tr>\n",
              "    <tr>\n",
              "      <th>2</th>\n",
              "      <td>6</td>\n",
              "      <td>10</td>\n",
              "    </tr>\n",
              "    <tr>\n",
              "      <th>3</th>\n",
              "      <td>7</td>\n",
              "      <td>9</td>\n",
              "    </tr>\n",
              "    <tr>\n",
              "      <th>4</th>\n",
              "      <td>27</td>\n",
              "      <td>27</td>\n",
              "    </tr>\n",
              "  </tbody>\n",
              "</table>\n",
              "</div>\n",
              "      <button class=\"colab-df-convert\" onclick=\"convertToInteractive('df-ae7d3422-2904-4b14-9474-54de36520e9f')\"\n",
              "              title=\"Convert this dataframe to an interactive table.\"\n",
              "              style=\"display:none;\">\n",
              "        \n",
              "  <svg xmlns=\"http://www.w3.org/2000/svg\" height=\"24px\"viewBox=\"0 0 24 24\"\n",
              "       width=\"24px\">\n",
              "    <path d=\"M0 0h24v24H0V0z\" fill=\"none\"/>\n",
              "    <path d=\"M18.56 5.44l.94 2.06.94-2.06 2.06-.94-2.06-.94-.94-2.06-.94 2.06-2.06.94zm-11 1L8.5 8.5l.94-2.06 2.06-.94-2.06-.94L8.5 2.5l-.94 2.06-2.06.94zm10 10l.94 2.06.94-2.06 2.06-.94-2.06-.94-.94-2.06-.94 2.06-2.06.94z\"/><path d=\"M17.41 7.96l-1.37-1.37c-.4-.4-.92-.59-1.43-.59-.52 0-1.04.2-1.43.59L10.3 9.45l-7.72 7.72c-.78.78-.78 2.05 0 2.83L4 21.41c.39.39.9.59 1.41.59.51 0 1.02-.2 1.41-.59l7.78-7.78 2.81-2.81c.8-.78.8-2.07 0-2.86zM5.41 20L4 18.59l7.72-7.72 1.47 1.35L5.41 20z\"/>\n",
              "  </svg>\n",
              "      </button>\n",
              "      \n",
              "  <style>\n",
              "    .colab-df-container {\n",
              "      display:flex;\n",
              "      flex-wrap:wrap;\n",
              "      gap: 12px;\n",
              "    }\n",
              "\n",
              "    .colab-df-convert {\n",
              "      background-color: #E8F0FE;\n",
              "      border: none;\n",
              "      border-radius: 50%;\n",
              "      cursor: pointer;\n",
              "      display: none;\n",
              "      fill: #1967D2;\n",
              "      height: 32px;\n",
              "      padding: 0 0 0 0;\n",
              "      width: 32px;\n",
              "    }\n",
              "\n",
              "    .colab-df-convert:hover {\n",
              "      background-color: #E2EBFA;\n",
              "      box-shadow: 0px 1px 2px rgba(60, 64, 67, 0.3), 0px 1px 3px 1px rgba(60, 64, 67, 0.15);\n",
              "      fill: #174EA6;\n",
              "    }\n",
              "\n",
              "    [theme=dark] .colab-df-convert {\n",
              "      background-color: #3B4455;\n",
              "      fill: #D2E3FC;\n",
              "    }\n",
              "\n",
              "    [theme=dark] .colab-df-convert:hover {\n",
              "      background-color: #434B5C;\n",
              "      box-shadow: 0px 1px 3px 1px rgba(0, 0, 0, 0.15);\n",
              "      filter: drop-shadow(0px 1px 2px rgba(0, 0, 0, 0.3));\n",
              "      fill: #FFFFFF;\n",
              "    }\n",
              "  </style>\n",
              "\n",
              "      <script>\n",
              "        const buttonEl =\n",
              "          document.querySelector('#df-ae7d3422-2904-4b14-9474-54de36520e9f button.colab-df-convert');\n",
              "        buttonEl.style.display =\n",
              "          google.colab.kernel.accessAllowed ? 'block' : 'none';\n",
              "\n",
              "        async function convertToInteractive(key) {\n",
              "          const element = document.querySelector('#df-ae7d3422-2904-4b14-9474-54de36520e9f');\n",
              "          const dataTable =\n",
              "            await google.colab.kernel.invokeFunction('convertToInteractive',\n",
              "                                                     [key], {});\n",
              "          if (!dataTable) return;\n",
              "\n",
              "          const docLinkHtml = 'Like what you see? Visit the ' +\n",
              "            '<a target=\"_blank\" href=https://colab.research.google.com/notebooks/data_table.ipynb>data table notebook</a>'\n",
              "            + ' to learn more about interactive tables.';\n",
              "          element.innerHTML = '';\n",
              "          dataTable['output_type'] = 'display_data';\n",
              "          await google.colab.output.renderOutput(dataTable, element);\n",
              "          const docLink = document.createElement('div');\n",
              "          docLink.innerHTML = docLinkHtml;\n",
              "          element.appendChild(docLink);\n",
              "        }\n",
              "      </script>\n",
              "    </div>\n",
              "  </div>\n",
              "  "
            ]
          },
          "metadata": {},
          "execution_count": 183
        }
      ],
      "source": [
        "pd.crosstab(df[\"Drug\"], df[\"Sex\"])"
      ]
    },
    {
      "cell_type": "code",
      "execution_count": null,
      "id": "cab0bfe8",
      "metadata": {
        "execution": {
          "iopub.execute_input": "2023-01-01T15:51:30.189248Z",
          "iopub.status.busy": "2023-01-01T15:51:30.188798Z",
          "iopub.status.idle": "2023-01-01T15:51:30.494398Z",
          "shell.execute_reply": "2023-01-01T15:51:30.493018Z"
        },
        "papermill": {
          "duration": 0.32448,
          "end_time": "2023-01-01T15:51:30.497100",
          "exception": false,
          "start_time": "2023-01-01T15:51:30.172620",
          "status": "completed"
        },
        "tags": [],
        "colab": {
          "base_uri": "https://localhost:8080/",
          "height": 410
        },
        "id": "cab0bfe8",
        "outputId": "fe6ed8ab-c36e-4ae6-a3b7-57da58c1da62"
      },
      "outputs": [
        {
          "output_type": "display_data",
          "data": {
            "text/plain": [
              "<Figure size 720x432 with 1 Axes>"
            ],
            "image/png": "[encoded data removed]"
          },
          "metadata": {}
        }
      ],
      "source": [
        "pd.crosstab(df[\"Drug\"], df[\"Sex\"]).plot(kind=\"bar\",\n",
        "                                   figsize=(10, 6))\n",
        "plt.title(\"Drug vs Sex\")\n",
        "plt.xlabel(\"Drug Type\")\n",
        "plt.ylabel(\"Sex\")\n",
        "plt.xticks(rotation=0);"
      ]
    },
    {
      "cell_type": "markdown",
      "id": "09158ac0",
      "metadata": {
        "papermill": {
          "duration": 0.014154,
          "end_time": "2023-01-01T15:51:30.526050",
          "exception": false,
          "start_time": "2023-01-01T15:51:30.511896",
          "status": "completed"
        },
        "tags": [],
        "id": "09158ac0"
      },
      "source": [
        "## Inference: \n",
        "- Drug 0 is not only the higgest usage, but it is also has it's distribution equal among male and female. \n",
        "- And the other drugs are also almost equally distributed among the genders male and female. "
      ]
    },
    {
      "cell_type": "markdown",
      "id": "b6d76faf",
      "metadata": {
        "papermill": {
          "duration": 0.014264,
          "end_time": "2023-01-01T15:51:30.554830",
          "exception": false,
          "start_time": "2023-01-01T15:51:30.540566",
          "status": "completed"
        },
        "tags": [],
        "id": "b6d76faf"
      },
      "source": [
        "### 2. Drug Vs BP"
      ]
    },
    {
      "cell_type": "code",
      "execution_count": null,
      "id": "32156bab",
      "metadata": {
        "execution": {
          "iopub.execute_input": "2023-01-01T15:51:30.585943Z",
          "iopub.status.busy": "2023-01-01T15:51:30.585544Z",
          "iopub.status.idle": "2023-01-01T15:51:30.607952Z",
          "shell.execute_reply": "2023-01-01T15:51:30.606651Z"
        },
        "papermill": {
          "duration": 0.040977,
          "end_time": "2023-01-01T15:51:30.610400",
          "exception": false,
          "start_time": "2023-01-01T15:51:30.569423",
          "status": "completed"
        },
        "tags": [],
        "colab": {
          "base_uri": "https://localhost:8080/",
          "height": 235
        },
        "id": "32156bab",
        "outputId": "5235b03d-6bcb-486a-928c-fb4e878b315a"
      },
      "outputs": [
        {
          "output_type": "execute_result",
          "data": {
            "text/plain": [
              "BP     0   1   2\n",
              "Drug            \n",
              "0     38  30  23\n",
              "1     23   0   0\n",
              "2     16   0   0\n",
              "3      0  16   0\n",
              "4      0  18  36"
            ],
            "text/html": [
              "\n",
              "  <div id=\"df-a74cb65b-00dd-4a42-9c26-daf5f93fb3fc\">\n",
              "    <div class=\"colab-df-container\">\n",
              "      <div>\n",
              "<style scoped>\n",
              "    .dataframe tbody tr th:only-of-type {\n",
              "        vertical-align: middle;\n",
              "    }\n",
              "\n",
              "    .dataframe tbody tr th {\n",
              "        vertical-align: top;\n",
              "    }\n",
              "\n",
              "    .dataframe thead th {\n",
              "        text-align: right;\n",
              "    }\n",
              "</style>\n",
              "<table border=\"1\" class=\"dataframe\">\n",
              "  <thead>\n",
              "    <tr style=\"text-align: right;\">\n",
              "      <th>BP</th>\n",
              "      <th>0</th>\n",
              "      <th>1</th>\n",
              "      <th>2</th>\n",
              "    </tr>\n",
              "    <tr>\n",
              "      <th>Drug</th>\n",
              "      <th></th>\n",
              "      <th></th>\n",
              "      <th></th>\n",
              "    </tr>\n",
              "  </thead>\n",
              "  <tbody>\n",
              "    <tr>\n",
              "      <th>0</th>\n",
              "      <td>38</td>\n",
              "      <td>30</td>\n",
              "      <td>23</td>\n",
              "    </tr>\n",
              "    <tr>\n",
              "      <th>1</th>\n",
              "      <td>23</td>\n",
              "      <td>0</td>\n",
              "      <td>0</td>\n",
              "    </tr>\n",
              "    <tr>\n",
              "      <th>2</th>\n",
              "      <td>16</td>\n",
              "      <td>0</td>\n",
              "      <td>0</td>\n",
              "    </tr>\n",
              "    <tr>\n",
              "      <th>3</th>\n",
              "      <td>0</td>\n",
              "      <td>16</td>\n",
              "      <td>0</td>\n",
              "    </tr>\n",
              "    <tr>\n",
              "      <th>4</th>\n",
              "      <td>0</td>\n",
              "      <td>18</td>\n",
              "      <td>36</td>\n",
              "    </tr>\n",
              "  </tbody>\n",
              "</table>\n",
              "</div>\n",
              "      <button class=\"colab-df-convert\" onclick=\"convertToInteractive('df-a74cb65b-00dd-4a42-9c26-daf5f93fb3fc')\"\n",
              "              title=\"Convert this dataframe to an interactive table.\"\n",
              "              style=\"display:none;\">\n",
              "        \n",
              "  <svg xmlns=\"http://www.w3.org/2000/svg\" height=\"24px\"viewBox=\"0 0 24 24\"\n",
              "       width=\"24px\">\n",
              "    <path d=\"M0 0h24v24H0V0z\" fill=\"none\"/>\n",
              "    <path d=\"M18.56 5.44l.94 2.06.94-2.06 2.06-.94-2.06-.94-.94-2.06-.94 2.06-2.06.94zm-11 1L8.5 8.5l.94-2.06 2.06-.94-2.06-.94L8.5 2.5l-.94 2.06-2.06.94zm10 10l.94 2.06.94-2.06 2.06-.94-2.06-.94-.94-2.06-.94 2.06-2.06.94z\"/><path d=\"M17.41 7.96l-1.37-1.37c-.4-.4-.92-.59-1.43-.59-.52 0-1.04.2-1.43.59L10.3 9.45l-7.72 7.72c-.78.78-.78 2.05 0 2.83L4 21.41c.39.39.9.59 1.41.59.51 0 1.02-.2 1.41-.59l7.78-7.78 2.81-2.81c.8-.78.8-2.07 0-2.86zM5.41 20L4 18.59l7.72-7.72 1.47 1.35L5.41 20z\"/>\n",
              "  </svg>\n",
              "      </button>\n",
              "      \n",
              "  <style>\n",
              "    .colab-df-container {\n",
              "      display:flex;\n",
              "      flex-wrap:wrap;\n",
              "      gap: 12px;\n",
              "    }\n",
              "\n",
              "    .colab-df-convert {\n",
              "      background-color: #E8F0FE;\n",
              "      border: none;\n",
              "      border-radius: 50%;\n",
              "      cursor: pointer;\n",
              "      display: none;\n",
              "      fill: #1967D2;\n",
              "      height: 32px;\n",
              "      padding: 0 0 0 0;\n",
              "      width: 32px;\n",
              "    }\n",
              "\n",
              "    .colab-df-convert:hover {\n",
              "      background-color: #E2EBFA;\n",
              "      box-shadow: 0px 1px 2px rgba(60, 64, 67, 0.3), 0px 1px 3px 1px rgba(60, 64, 67, 0.15);\n",
              "      fill: #174EA6;\n",
              "    }\n",
              "\n",
              "    [theme=dark] .colab-df-convert {\n",
              "      background-color: #3B4455;\n",
              "      fill: #D2E3FC;\n",
              "    }\n",
              "\n",
              "    [theme=dark] .colab-df-convert:hover {\n",
              "      background-color: #434B5C;\n",
              "      box-shadow: 0px 1px 3px 1px rgba(0, 0, 0, 0.15);\n",
              "      filter: drop-shadow(0px 1px 2px rgba(0, 0, 0, 0.3));\n",
              "      fill: #FFFFFF;\n",
              "    }\n",
              "  </style>\n",
              "\n",
              "      <script>\n",
              "        const buttonEl =\n",
              "          document.querySelector('#df-a74cb65b-00dd-4a42-9c26-daf5f93fb3fc button.colab-df-convert');\n",
              "        buttonEl.style.display =\n",
              "          google.colab.kernel.accessAllowed ? 'block' : 'none';\n",
              "\n",
              "        async function convertToInteractive(key) {\n",
              "          const element = document.querySelector('#df-a74cb65b-00dd-4a42-9c26-daf5f93fb3fc');\n",
              "          const dataTable =\n",
              "            await google.colab.kernel.invokeFunction('convertToInteractive',\n",
              "                                                     [key], {});\n",
              "          if (!dataTable) return;\n",
              "\n",
              "          const docLinkHtml = 'Like what you see? Visit the ' +\n",
              "            '<a target=\"_blank\" href=https://colab.research.google.com/notebooks/data_table.ipynb>data table notebook</a>'\n",
              "            + ' to learn more about interactive tables.';\n",
              "          element.innerHTML = '';\n",
              "          dataTable['output_type'] = 'display_data';\n",
              "          await google.colab.output.renderOutput(dataTable, element);\n",
              "          const docLink = document.createElement('div');\n",
              "          docLink.innerHTML = docLinkHtml;\n",
              "          element.appendChild(docLink);\n",
              "        }\n",
              "      </script>\n",
              "    </div>\n",
              "  </div>\n",
              "  "
            ]
          },
          "metadata": {},
          "execution_count": 185
        }
      ],
      "source": [
        "pd.crosstab(df[\"Drug\"], df[\"BP\"])"
      ]
    },
    {
      "cell_type": "code",
      "execution_count": null,
      "id": "4d2c428a",
      "metadata": {
        "execution": {
          "iopub.execute_input": "2023-01-01T15:51:30.644824Z",
          "iopub.status.busy": "2023-01-01T15:51:30.644425Z",
          "iopub.status.idle": "2023-01-01T15:51:30.983791Z",
          "shell.execute_reply": "2023-01-01T15:51:30.982595Z"
        },
        "papermill": {
          "duration": 0.359196,
          "end_time": "2023-01-01T15:51:30.986214",
          "exception": false,
          "start_time": "2023-01-01T15:51:30.627018",
          "status": "completed"
        },
        "tags": [],
        "colab": {
          "base_uri": "https://localhost:8080/",
          "height": 410
        },
        "id": "4d2c428a",
        "outputId": "1921042b-457f-42e1-fa7e-c19159575eb5"
      },
      "outputs": [
        {
          "output_type": "display_data",
          "data": {
            "text/plain": [
              "<Figure size 720x432 with 1 Axes>"
            ],
            "image/png": "[encoded data removed]"
          },
          "metadata": {}
        }
      ],
      "source": [
        "# Compare bp column with sex column\n",
        "pd.crosstab(df[\"Drug\"], df[\"BP\"]).plot(kind=\"bar\",\n",
        "                                   figsize=(10, 6))\n",
        "plt.title(\"Drug vs BP\")\n",
        "plt.xlabel(\"Drug Type\")\n",
        "plt.ylabel(\"BP\")\n",
        "plt.xticks(rotation=0);"
      ]
    },
    {
      "cell_type": "markdown",
      "id": "219439ba",
      "metadata": {
        "papermill": {
          "duration": 0.015117,
          "end_time": "2023-01-01T15:51:31.017204",
          "exception": false,
          "start_time": "2023-01-01T15:51:31.002087",
          "status": "completed"
        },
        "tags": [],
        "id": "219439ba"
      },
      "source": [
        "## Inference: \n",
        "There is a high bias of medicines. Again this could be of 2 reasons. (Less data or medical reasons)\n",
        "\n",
        "- BP Type 0 -> Drug 0,1,2\n",
        "- BP Type 1 -> Drug 0,3,4\n",
        "- BP Type 3 -> Drug 0,4\n",
        "\n",
        "This can help in manual classification. But nevertheless, BP is a highly important feature..."
      ]
    },
    {
      "cell_type": "markdown",
      "id": "de4412ad",
      "metadata": {
        "papermill": {
          "duration": 0.014639,
          "end_time": "2023-01-01T15:51:31.046888",
          "exception": false,
          "start_time": "2023-01-01T15:51:31.032249",
          "status": "completed"
        },
        "tags": [],
        "id": "de4412ad"
      },
      "source": [
        "# 3. Drug Vs Cholesterol"
      ]
    },
    {
      "cell_type": "code",
      "execution_count": null,
      "id": "10ed862f",
      "metadata": {
        "execution": {
          "iopub.execute_input": "2023-01-01T15:51:31.079243Z",
          "iopub.status.busy": "2023-01-01T15:51:31.078822Z",
          "iopub.status.idle": "2023-01-01T15:51:31.099352Z",
          "shell.execute_reply": "2023-01-01T15:51:31.098242Z"
        },
        "papermill": {
          "duration": 0.039793,
          "end_time": "2023-01-01T15:51:31.101823",
          "exception": false,
          "start_time": "2023-01-01T15:51:31.062030",
          "status": "completed"
        },
        "tags": [],
        "colab": {
          "base_uri": "https://localhost:8080/",
          "height": 235
        },
        "id": "10ed862f",
        "outputId": "0a774b01-d922-4371-971b-e6266f503006"
      },
      "outputs": [
        {
          "output_type": "execute_result",
          "data": {
            "text/plain": [
              "Cholesterol   0   1\n",
              "Drug               \n",
              "0            47  44\n",
              "1            12  11\n",
              "2             8   8\n",
              "3            16   0\n",
              "4            20  34"
            ],
            "text/html": [
              "\n",
              "  <div id=\"df-3dbf6328-4f2c-420c-b1d2-257dfd42480d\">\n",
              "    <div class=\"colab-df-container\">\n",
              "      <div>\n",
              "<style scoped>\n",
              "    .dataframe tbody tr th:only-of-type {\n",
              "        vertical-align: middle;\n",
              "    }\n",
              "\n",
              "    .dataframe tbody tr th {\n",
              "        vertical-align: top;\n",
              "    }\n",
              "\n",
              "    .dataframe thead th {\n",
              "        text-align: right;\n",
              "    }\n",
              "</style>\n",
              "<table border=\"1\" class=\"dataframe\">\n",
              "  <thead>\n",
              "    <tr style=\"text-align: right;\">\n",
              "      <th>Cholesterol</th>\n",
              "      <th>0</th>\n",
              "      <th>1</th>\n",
              "    </tr>\n",
              "    <tr>\n",
              "      <th>Drug</th>\n",
              "      <th></th>\n",
              "      <th></th>\n",
              "    </tr>\n",
              "  </thead>\n",
              "  <tbody>\n",
              "    <tr>\n",
              "      <th>0</th>\n",
              "      <td>47</td>\n",
              "      <td>44</td>\n",
              "    </tr>\n",
              "    <tr>\n",
              "      <th>1</th>\n",
              "      <td>12</td>\n",
              "      <td>11</td>\n",
              "    </tr>\n",
              "    <tr>\n",
              "      <th>2</th>\n",
              "      <td>8</td>\n",
              "      <td>8</td>\n",
              "    </tr>\n",
              "    <tr>\n",
              "      <th>3</th>\n",
              "      <td>16</td>\n",
              "      <td>0</td>\n",
              "    </tr>\n",
              "    <tr>\n",
              "      <th>4</th>\n",
              "      <td>20</td>\n",
              "      <td>34</td>\n",
              "    </tr>\n",
              "  </tbody>\n",
              "</table>\n",
              "</div>\n",
              "      <button class=\"colab-df-convert\" onclick=\"convertToInteractive('df-3dbf6328-4f2c-420c-b1d2-257dfd42480d')\"\n",
              "              title=\"Convert this dataframe to an interactive table.\"\n",
              "              style=\"display:none;\">\n",
              "        \n",
              "  <svg xmlns=\"http://www.w3.org/2000/svg\" height=\"24px\"viewBox=\"0 0 24 24\"\n",
              "       width=\"24px\">\n",
              "    <path d=\"M0 0h24v24H0V0z\" fill=\"none\"/>\n",
              "    <path d=\"M18.56 5.44l.94 2.06.94-2.06 2.06-.94-2.06-.94-.94-2.06-.94 2.06-2.06.94zm-11 1L8.5 8.5l.94-2.06 2.06-.94-2.06-.94L8.5 2.5l-.94 2.06-2.06.94zm10 10l.94 2.06.94-2.06 2.06-.94-2.06-.94-.94-2.06-.94 2.06-2.06.94z\"/><path d=\"M17.41 7.96l-1.37-1.37c-.4-.4-.92-.59-1.43-.59-.52 0-1.04.2-1.43.59L10.3 9.45l-7.72 7.72c-.78.78-.78 2.05 0 2.83L4 21.41c.39.39.9.59 1.41.59.51 0 1.02-.2 1.41-.59l7.78-7.78 2.81-2.81c.8-.78.8-2.07 0-2.86zM5.41 20L4 18.59l7.72-7.72 1.47 1.35L5.41 20z\"/>\n",
              "  </svg>\n",
              "      </button>\n",
              "      \n",
              "  <style>\n",
              "    .colab-df-container {\n",
              "      display:flex;\n",
              "      flex-wrap:wrap;\n",
              "      gap: 12px;\n",
              "    }\n",
              "\n",
              "    .colab-df-convert {\n",
              "      background-color: #E8F0FE;\n",
              "      border: none;\n",
              "      border-radius: 50%;\n",
              "      cursor: pointer;\n",
              "      display: none;\n",
              "      fill: #1967D2;\n",
              "      height: 32px;\n",
              "      padding: 0 0 0 0;\n",
              "      width: 32px;\n",
              "    }\n",
              "\n",
              "    .colab-df-convert:hover {\n",
              "      background-color: #E2EBFA;\n",
              "      box-shadow: 0px 1px 2px rgba(60, 64, 67, 0.3), 0px 1px 3px 1px rgba(60, 64, 67, 0.15);\n",
              "      fill: #174EA6;\n",
              "    }\n",
              "\n",
              "    [theme=dark] .colab-df-convert {\n",
              "      background-color: #3B4455;\n",
              "      fill: #D2E3FC;\n",
              "    }\n",
              "\n",
              "    [theme=dark] .colab-df-convert:hover {\n",
              "      background-color: #434B5C;\n",
              "      box-shadow: 0px 1px 3px 1px rgba(0, 0, 0, 0.15);\n",
              "      filter: drop-shadow(0px 1px 2px rgba(0, 0, 0, 0.3));\n",
              "      fill: #FFFFFF;\n",
              "    }\n",
              "  </style>\n",
              "\n",
              "      <script>\n",
              "        const buttonEl =\n",
              "          document.querySelector('#df-3dbf6328-4f2c-420c-b1d2-257dfd42480d button.colab-df-convert');\n",
              "        buttonEl.style.display =\n",
              "          google.colab.kernel.accessAllowed ? 'block' : 'none';\n",
              "\n",
              "        async function convertToInteractive(key) {\n",
              "          const element = document.querySelector('#df-3dbf6328-4f2c-420c-b1d2-257dfd42480d');\n",
              "          const dataTable =\n",
              "            await google.colab.kernel.invokeFunction('convertToInteractive',\n",
              "                                                     [key], {});\n",
              "          if (!dataTable) return;\n",
              "\n",
              "          const docLinkHtml = 'Like what you see? Visit the ' +\n",
              "            '<a target=\"_blank\" href=https://colab.research.google.com/notebooks/data_table.ipynb>data table notebook</a>'\n",
              "            + ' to learn more about interactive tables.';\n",
              "          element.innerHTML = '';\n",
              "          dataTable['output_type'] = 'display_data';\n",
              "          await google.colab.output.renderOutput(dataTable, element);\n",
              "          const docLink = document.createElement('div');\n",
              "          docLink.innerHTML = docLinkHtml;\n",
              "          element.appendChild(docLink);\n",
              "        }\n",
              "      </script>\n",
              "    </div>\n",
              "  </div>\n",
              "  "
            ]
          },
          "metadata": {},
          "execution_count": 187
        }
      ],
      "source": [
        "pd.crosstab(df[\"Drug\"], df[\"Cholesterol\"])"
      ]
    },
    {
      "cell_type": "code",
      "execution_count": null,
      "id": "6cc35aeb",
      "metadata": {
        "execution": {
          "iopub.execute_input": "2023-01-01T15:51:31.134356Z",
          "iopub.status.busy": "2023-01-01T15:51:31.133923Z",
          "iopub.status.idle": "2023-01-01T15:51:31.422223Z",
          "shell.execute_reply": "2023-01-01T15:51:31.420997Z"
        },
        "papermill": {
          "duration": 0.307622,
          "end_time": "2023-01-01T15:51:31.424848",
          "exception": false,
          "start_time": "2023-01-01T15:51:31.117226",
          "status": "completed"
        },
        "tags": [],
        "colab": {
          "base_uri": "https://localhost:8080/",
          "height": 410
        },
        "id": "6cc35aeb",
        "outputId": "cf187c0b-b396-4173-cb8d-b03d01e3ad4b"
      },
      "outputs": [
        {
          "output_type": "display_data",
          "data": {
            "text/plain": [
              "<Figure size 720x432 with 1 Axes>"
            ],
            "image/png": "[encoded data removed]"
          },
          "metadata": {}
        }
      ],
      "source": [
        "# Compare cholesterol column with sex column\n",
        "pd.crosstab(df[\"Drug\"], df[\"Cholesterol\"]).plot(kind=\"bar\",\n",
        "                                   figsize=(10, 6))\n",
        "plt.title(\"Drug vs Cholesterol\")\n",
        "plt.xlabel(\"Drug Type\")\n",
        "plt.ylabel(\"Cholesterol\")\n",
        "plt.xticks(rotation=0);"
      ]
    },
    {
      "cell_type": "markdown",
      "id": "1d214a26",
      "metadata": {
        "papermill": {
          "duration": 0.016476,
          "end_time": "2023-01-01T15:51:31.458260",
          "exception": false,
          "start_time": "2023-01-01T15:51:31.441784",
          "status": "completed"
        },
        "tags": [],
        "id": "1d214a26"
      },
      "source": [
        "## Inference:\n",
        "Simple yet unique.\n",
        "- Cholesterol Type 1 cannot have Drug Type 3"
      ]
    },
    {
      "cell_type": "markdown",
      "id": "81912ac9",
      "metadata": {
        "papermill": {
          "duration": 0.016292,
          "end_time": "2023-01-01T15:51:31.491156",
          "exception": false,
          "start_time": "2023-01-01T15:51:31.474864",
          "status": "completed"
        },
        "tags": [],
        "id": "81912ac9"
      },
      "source": [
        "\n",
        "\n",
        "```\n",
        "# This is formatted as code\n",
        "```\n",
        "\n",
        "# 4. Other Crosstabs"
      ]
    },
    {
      "cell_type": "code",
      "execution_count": null,
      "id": "6ac0f8ca",
      "metadata": {
        "execution": {
          "iopub.execute_input": "2023-01-01T15:51:31.526342Z",
          "iopub.status.busy": "2023-01-01T15:51:31.525899Z",
          "iopub.status.idle": "2023-01-01T15:51:31.547490Z",
          "shell.execute_reply": "2023-01-01T15:51:31.546092Z"
        },
        "papermill": {
          "duration": 0.042091,
          "end_time": "2023-01-01T15:51:31.549993",
          "exception": false,
          "start_time": "2023-01-01T15:51:31.507902",
          "status": "completed"
        },
        "tags": [],
        "colab": {
          "base_uri": "https://localhost:8080/",
          "height": 142
        },
        "id": "6ac0f8ca",
        "outputId": "908d09bb-dff0-407e-bf53-a661d21d7050"
      },
      "outputs": [
        {
          "output_type": "execute_result",
          "data": {
            "text/plain": [
              "Cholesterol   0   1\n",
              "Sex                \n",
              "0            49  47\n",
              "1            54  50"
            ],
            "text/html": [
              "\n",
              "  <div id=\"df-b7d1be51-8a78-4554-9ab7-4e7bee9864ad\">\n",
              "    <div class=\"colab-df-container\">\n",
              "      <div>\n",
              "<style scoped>\n",
              "    .dataframe tbody tr th:only-of-type {\n",
              "        vertical-align: middle;\n",
              "    }\n",
              "\n",
              "    .dataframe tbody tr th {\n",
              "        vertical-align: top;\n",
              "    }\n",
              "\n",
              "    .dataframe thead th {\n",
              "        text-align: right;\n",
              "    }\n",
              "</style>\n",
              "<table border=\"1\" class=\"dataframe\">\n",
              "  <thead>\n",
              "    <tr style=\"text-align: right;\">\n",
              "      <th>Cholesterol</th>\n",
              "      <th>0</th>\n",
              "      <th>1</th>\n",
              "    </tr>\n",
              "    <tr>\n",
              "      <th>Sex</th>\n",
              "      <th></th>\n",
              "      <th></th>\n",
              "    </tr>\n",
              "  </thead>\n",
              "  <tbody>\n",
              "    <tr>\n",
              "      <th>0</th>\n",
              "      <td>49</td>\n",
              "      <td>47</td>\n",
              "    </tr>\n",
              "    <tr>\n",
              "      <th>1</th>\n",
              "      <td>54</td>\n",
              "      <td>50</td>\n",
              "    </tr>\n",
              "  </tbody>\n",
              "</table>\n",
              "</div>\n",
              "      <button class=\"colab-df-convert\" onclick=\"convertToInteractive('df-b7d1be51-8a78-4554-9ab7-4e7bee9864ad')\"\n",
              "              title=\"Convert this dataframe to an interactive table.\"\n",
              "              style=\"display:none;\">\n",
              "        \n",
              "  <svg xmlns=\"http://www.w3.org/2000/svg\" height=\"24px\"viewBox=\"0 0 24 24\"\n",
              "       width=\"24px\">\n",
              "    <path d=\"M0 0h24v24H0V0z\" fill=\"none\"/>\n",
              "    <path d=\"M18.56 5.44l.94 2.06.94-2.06 2.06-.94-2.06-.94-.94-2.06-.94 2.06-2.06.94zm-11 1L8.5 8.5l.94-2.06 2.06-.94-2.06-.94L8.5 2.5l-.94 2.06-2.06.94zm10 10l.94 2.06.94-2.06 2.06-.94-2.06-.94-.94-2.06-.94 2.06-2.06.94z\"/><path d=\"M17.41 7.96l-1.37-1.37c-.4-.4-.92-.59-1.43-.59-.52 0-1.04.2-1.43.59L10.3 9.45l-7.72 7.72c-.78.78-.78 2.05 0 2.83L4 21.41c.39.39.9.59 1.41.59.51 0 1.02-.2 1.41-.59l7.78-7.78 2.81-2.81c.8-.78.8-2.07 0-2.86zM5.41 20L4 18.59l7.72-7.72 1.47 1.35L5.41 20z\"/>\n",
              "  </svg>\n",
              "      </button>\n",
              "      \n",
              "  <style>\n",
              "    .colab-df-container {\n",
              "      display:flex;\n",
              "      flex-wrap:wrap;\n",
              "      gap: 12px;\n",
              "    }\n",
              "\n",
              "    .colab-df-convert {\n",
              "      background-color: #E8F0FE;\n",
              "      border: none;\n",
              "      border-radius: 50%;\n",
              "      cursor: pointer;\n",
              "      display: none;\n",
              "      fill: #1967D2;\n",
              "      height: 32px;\n",
              "      padding: 0 0 0 0;\n",
              "      width: 32px;\n",
              "    }\n",
              "\n",
              "    .colab-df-convert:hover {\n",
              "      background-color: #E2EBFA;\n",
              "      box-shadow: 0px 1px 2px rgba(60, 64, 67, 0.3), 0px 1px 3px 1px rgba(60, 64, 67, 0.15);\n",
              "      fill: #174EA6;\n",
              "    }\n",
              "\n",
              "    [theme=dark] .colab-df-convert {\n",
              "      background-color: #3B4455;\n",
              "      fill: #D2E3FC;\n",
              "    }\n",
              "\n",
              "    [theme=dark] .colab-df-convert:hover {\n",
              "      background-color: #434B5C;\n",
              "      box-shadow: 0px 1px 3px 1px rgba(0, 0, 0, 0.15);\n",
              "      filter: drop-shadow(0px 1px 2px rgba(0, 0, 0, 0.3));\n",
              "      fill: #FFFFFF;\n",
              "    }\n",
              "  </style>\n",
              "\n",
              "      <script>\n",
              "        const buttonEl =\n",
              "          document.querySelector('#df-b7d1be51-8a78-4554-9ab7-4e7bee9864ad button.colab-df-convert');\n",
              "        buttonEl.style.display =\n",
              "          google.colab.kernel.accessAllowed ? 'block' : 'none';\n",
              "\n",
              "        async function convertToInteractive(key) {\n",
              "          const element = document.querySelector('#df-b7d1be51-8a78-4554-9ab7-4e7bee9864ad');\n",
              "          const dataTable =\n",
              "            await google.colab.kernel.invokeFunction('convertToInteractive',\n",
              "                                                     [key], {});\n",
              "          if (!dataTable) return;\n",
              "\n",
              "          const docLinkHtml = 'Like what you see? Visit the ' +\n",
              "            '<a target=\"_blank\" href=https://colab.research.google.com/notebooks/data_table.ipynb>data table notebook</a>'\n",
              "            + ' to learn more about interactive tables.';\n",
              "          element.innerHTML = '';\n",
              "          dataTable['output_type'] = 'display_data';\n",
              "          await google.colab.output.renderOutput(dataTable, element);\n",
              "          const docLink = document.createElement('div');\n",
              "          docLink.innerHTML = docLinkHtml;\n",
              "          element.appendChild(docLink);\n",
              "        }\n",
              "      </script>\n",
              "    </div>\n",
              "  </div>\n",
              "  "
            ]
          },
          "metadata": {},
          "execution_count": 189
        }
      ],
      "source": [
        "pd.crosstab(df[\"Sex\"], df[\"Cholesterol\"])"
      ]
    },
    {
      "cell_type": "code",
      "execution_count": null,
      "id": "3d50ce22",
      "metadata": {
        "execution": {
          "iopub.execute_input": "2023-01-01T15:51:31.584090Z",
          "iopub.status.busy": "2023-01-01T15:51:31.583642Z",
          "iopub.status.idle": "2023-01-01T15:51:31.609137Z",
          "shell.execute_reply": "2023-01-01T15:51:31.607971Z"
        },
        "papermill": {
          "duration": 0.045456,
          "end_time": "2023-01-01T15:51:31.611637",
          "exception": false,
          "start_time": "2023-01-01T15:51:31.566181",
          "status": "completed"
        },
        "tags": [],
        "colab": {
          "base_uri": "https://localhost:8080/",
          "height": 142
        },
        "id": "3d50ce22",
        "outputId": "a0318c27-cf19-48d8-8896-1de14208b7fa"
      },
      "outputs": [
        {
          "output_type": "execute_result",
          "data": {
            "text/plain": [
              "BP    0   1   2\n",
              "Sex            \n",
              "0    38  28  30\n",
              "1    39  36  29"
            ],
            "text/html": [
              "\n",
              "  <div id=\"df-e312eca1-aec0-47c6-a42c-f5a681a45670\">\n",
              "    <div class=\"colab-df-container\">\n",
              "      <div>\n",
              "<style scoped>\n",
              "    .dataframe tbody tr th:only-of-type {\n",
              "        vertical-align: middle;\n",
              "    }\n",
              "\n",
              "    .dataframe tbody tr th {\n",
              "        vertical-align: top;\n",
              "    }\n",
              "\n",
              "    .dataframe thead th {\n",
              "        text-align: right;\n",
              "    }\n",
              "</style>\n",
              "<table border=\"1\" class=\"dataframe\">\n",
              "  <thead>\n",
              "    <tr style=\"text-align: right;\">\n",
              "      <th>BP</th>\n",
              "      <th>0</th>\n",
              "      <th>1</th>\n",
              "      <th>2</th>\n",
              "    </tr>\n",
              "    <tr>\n",
              "      <th>Sex</th>\n",
              "      <th></th>\n",
              "      <th></th>\n",
              "      <th></th>\n",
              "    </tr>\n",
              "  </thead>\n",
              "  <tbody>\n",
              "    <tr>\n",
              "      <th>0</th>\n",
              "      <td>38</td>\n",
              "      <td>28</td>\n",
              "      <td>30</td>\n",
              "    </tr>\n",
              "    <tr>\n",
              "      <th>1</th>\n",
              "      <td>39</td>\n",
              "      <td>36</td>\n",
              "      <td>29</td>\n",
              "    </tr>\n",
              "  </tbody>\n",
              "</table>\n",
              "</div>\n",
              "      <button class=\"colab-df-convert\" onclick=\"convertToInteractive('df-e312eca1-aec0-47c6-a42c-f5a681a45670')\"\n",
              "              title=\"Convert this dataframe to an interactive table.\"\n",
              "              style=\"display:none;\">\n",
              "        \n",
              "  <svg xmlns=\"http://www.w3.org/2000/svg\" height=\"24px\"viewBox=\"0 0 24 24\"\n",
              "       width=\"24px\">\n",
              "    <path d=\"M0 0h24v24H0V0z\" fill=\"none\"/>\n",
              "    <path d=\"M18.56 5.44l.94 2.06.94-2.06 2.06-.94-2.06-.94-.94-2.06-.94 2.06-2.06.94zm-11 1L8.5 8.5l.94-2.06 2.06-.94-2.06-.94L8.5 2.5l-.94 2.06-2.06.94zm10 10l.94 2.06.94-2.06 2.06-.94-2.06-.94-.94-2.06-.94 2.06-2.06.94z\"/><path d=\"M17.41 7.96l-1.37-1.37c-.4-.4-.92-.59-1.43-.59-.52 0-1.04.2-1.43.59L10.3 9.45l-7.72 7.72c-.78.78-.78 2.05 0 2.83L4 21.41c.39.39.9.59 1.41.59.51 0 1.02-.2 1.41-.59l7.78-7.78 2.81-2.81c.8-.78.8-2.07 0-2.86zM5.41 20L4 18.59l7.72-7.72 1.47 1.35L5.41 20z\"/>\n",
              "  </svg>\n",
              "      </button>\n",
              "      \n",
              "  <style>\n",
              "    .colab-df-container {\n",
              "      display:flex;\n",
              "      flex-wrap:wrap;\n",
              "      gap: 12px;\n",
              "    }\n",
              "\n",
              "    .colab-df-convert {\n",
              "      background-color: #E8F0FE;\n",
              "      border: none;\n",
              "      border-radius: 50%;\n",
              "      cursor: pointer;\n",
              "      display: none;\n",
              "      fill: #1967D2;\n",
              "      height: 32px;\n",
              "      padding: 0 0 0 0;\n",
              "      width: 32px;\n",
              "    }\n",
              "\n",
              "    .colab-df-convert:hover {\n",
              "      background-color: #E2EBFA;\n",
              "      box-shadow: 0px 1px 2px rgba(60, 64, 67, 0.3), 0px 1px 3px 1px rgba(60, 64, 67, 0.15);\n",
              "      fill: #174EA6;\n",
              "    }\n",
              "\n",
              "    [theme=dark] .colab-df-convert {\n",
              "      background-color: #3B4455;\n",
              "      fill: #D2E3FC;\n",
              "    }\n",
              "\n",
              "    [theme=dark] .colab-df-convert:hover {\n",
              "      background-color: #434B5C;\n",
              "      box-shadow: 0px 1px 3px 1px rgba(0, 0, 0, 0.15);\n",
              "      filter: drop-shadow(0px 1px 2px rgba(0, 0, 0, 0.3));\n",
              "      fill: #FFFFFF;\n",
              "    }\n",
              "  </style>\n",
              "\n",
              "      <script>\n",
              "        const buttonEl =\n",
              "          document.querySelector('#df-e312eca1-aec0-47c6-a42c-f5a681a45670 button.colab-df-convert');\n",
              "        buttonEl.style.display =\n",
              "          google.colab.kernel.accessAllowed ? 'block' : 'none';\n",
              "\n",
              "        async function convertToInteractive(key) {\n",
              "          const element = document.querySelector('#df-e312eca1-aec0-47c6-a42c-f5a681a45670');\n",
              "          const dataTable =\n",
              "            await google.colab.kernel.invokeFunction('convertToInteractive',\n",
              "                                                     [key], {});\n",
              "          if (!dataTable) return;\n",
              "\n",
              "          const docLinkHtml = 'Like what you see? Visit the ' +\n",
              "            '<a target=\"_blank\" href=https://colab.research.google.com/notebooks/data_table.ipynb>data table notebook</a>'\n",
              "            + ' to learn more about interactive tables.';\n",
              "          element.innerHTML = '';\n",
              "          dataTable['output_type'] = 'display_data';\n",
              "          await google.colab.output.renderOutput(dataTable, element);\n",
              "          const docLink = document.createElement('div');\n",
              "          docLink.innerHTML = docLinkHtml;\n",
              "          element.appendChild(docLink);\n",
              "        }\n",
              "      </script>\n",
              "    </div>\n",
              "  </div>\n",
              "  "
            ]
          },
          "metadata": {},
          "execution_count": 190
        }
      ],
      "source": [
        "pd.crosstab(df[\"Sex\"], df[\"BP\"])"
      ]
    },
    {
      "cell_type": "code",
      "execution_count": null,
      "id": "0115cd10",
      "metadata": {
        "execution": {
          "iopub.execute_input": "2023-01-01T15:51:31.648340Z",
          "iopub.status.busy": "2023-01-01T15:51:31.647896Z",
          "iopub.status.idle": "2023-01-01T15:51:31.669877Z",
          "shell.execute_reply": "2023-01-01T15:51:31.668902Z"
        },
        "papermill": {
          "duration": 0.043254,
          "end_time": "2023-01-01T15:51:31.672401",
          "exception": false,
          "start_time": "2023-01-01T15:51:31.629147",
          "status": "completed"
        },
        "tags": [],
        "colab": {
          "base_uri": "https://localhost:8080/",
          "height": 142
        },
        "id": "0115cd10",
        "outputId": "41ba399b-e163-44f0-e6a1-c6b075bb3b32"
      },
      "outputs": [
        {
          "output_type": "execute_result",
          "data": {
            "text/plain": [
              "BP            0   1   2\n",
              "Cholesterol            \n",
              "0            35  31  37\n",
              "1            42  33  22"
            ],
            "text/html": [
              "\n",
              "  <div id=\"df-4dc5e506-d299-465d-9d7b-cfb4734b3492\">\n",
              "    <div class=\"colab-df-container\">\n",
              "      <div>\n",
              "<style scoped>\n",
              "    .dataframe tbody tr th:only-of-type {\n",
              "        vertical-align: middle;\n",
              "    }\n",
              "\n",
              "    .dataframe tbody tr th {\n",
              "        vertical-align: top;\n",
              "    }\n",
              "\n",
              "    .dataframe thead th {\n",
              "        text-align: right;\n",
              "    }\n",
              "</style>\n",
              "<table border=\"1\" class=\"dataframe\">\n",
              "  <thead>\n",
              "    <tr style=\"text-align: right;\">\n",
              "      <th>BP</th>\n",
              "      <th>0</th>\n",
              "      <th>1</th>\n",
              "      <th>2</th>\n",
              "    </tr>\n",
              "    <tr>\n",
              "      <th>Cholesterol</th>\n",
              "      <th></th>\n",
              "      <th></th>\n",
              "      <th></th>\n",
              "    </tr>\n",
              "  </thead>\n",
              "  <tbody>\n",
              "    <tr>\n",
              "      <th>0</th>\n",
              "      <td>35</td>\n",
              "      <td>31</td>\n",
              "      <td>37</td>\n",
              "    </tr>\n",
              "    <tr>\n",
              "      <th>1</th>\n",
              "      <td>42</td>\n",
              "      <td>33</td>\n",
              "      <td>22</td>\n",
              "    </tr>\n",
              "  </tbody>\n",
              "</table>\n",
              "</div>\n",
              "      <button class=\"colab-df-convert\" onclick=\"convertToInteractive('df-4dc5e506-d299-465d-9d7b-cfb4734b3492')\"\n",
              "              title=\"Convert this dataframe to an interactive table.\"\n",
              "              style=\"display:none;\">\n",
              "        \n",
              "  <svg xmlns=\"http://www.w3.org/2000/svg\" height=\"24px\"viewBox=\"0 0 24 24\"\n",
              "       width=\"24px\">\n",
              "    <path d=\"M0 0h24v24H0V0z\" fill=\"none\"/>\n",
              "    <path d=\"M18.56 5.44l.94 2.06.94-2.06 2.06-.94-2.06-.94-.94-2.06-.94 2.06-2.06.94zm-11 1L8.5 8.5l.94-2.06 2.06-.94-2.06-.94L8.5 2.5l-.94 2.06-2.06.94zm10 10l.94 2.06.94-2.06 2.06-.94-2.06-.94-.94-2.06-.94 2.06-2.06.94z\"/><path d=\"M17.41 7.96l-1.37-1.37c-.4-.4-.92-.59-1.43-.59-.52 0-1.04.2-1.43.59L10.3 9.45l-7.72 7.72c-.78.78-.78 2.05 0 2.83L4 21.41c.39.39.9.59 1.41.59.51 0 1.02-.2 1.41-.59l7.78-7.78 2.81-2.81c.8-.78.8-2.07 0-2.86zM5.41 20L4 18.59l7.72-7.72 1.47 1.35L5.41 20z\"/>\n",
              "  </svg>\n",
              "      </button>\n",
              "      \n",
              "  <style>\n",
              "    .colab-df-container {\n",
              "      display:flex;\n",
              "      flex-wrap:wrap;\n",
              "      gap: 12px;\n",
              "    }\n",
              "\n",
              "    .colab-df-convert {\n",
              "      background-color: #E8F0FE;\n",
              "      border: none;\n",
              "      border-radius: 50%;\n",
              "      cursor: pointer;\n",
              "      display: none;\n",
              "      fill: #1967D2;\n",
              "      height: 32px;\n",
              "      padding: 0 0 0 0;\n",
              "      width: 32px;\n",
              "    }\n",
              "\n",
              "    .colab-df-convert:hover {\n",
              "      background-color: #E2EBFA;\n",
              "      box-shadow: 0px 1px 2px rgba(60, 64, 67, 0.3), 0px 1px 3px 1px rgba(60, 64, 67, 0.15);\n",
              "      fill: #174EA6;\n",
              "    }\n",
              "\n",
              "    [theme=dark] .colab-df-convert {\n",
              "      background-color: #3B4455;\n",
              "      fill: #D2E3FC;\n",
              "    }\n",
              "\n",
              "    [theme=dark] .colab-df-convert:hover {\n",
              "      background-color: #434B5C;\n",
              "      box-shadow: 0px 1px 3px 1px rgba(0, 0, 0, 0.15);\n",
              "      filter: drop-shadow(0px 1px 2px rgba(0, 0, 0, 0.3));\n",
              "      fill: #FFFFFF;\n",
              "    }\n",
              "  </style>\n",
              "\n",
              "      <script>\n",
              "        const buttonEl =\n",
              "          document.querySelector('#df-4dc5e506-d299-465d-9d7b-cfb4734b3492 button.colab-df-convert');\n",
              "        buttonEl.style.display =\n",
              "          google.colab.kernel.accessAllowed ? 'block' : 'none';\n",
              "\n",
              "        async function convertToInteractive(key) {\n",
              "          const element = document.querySelector('#df-4dc5e506-d299-465d-9d7b-cfb4734b3492');\n",
              "          const dataTable =\n",
              "            await google.colab.kernel.invokeFunction('convertToInteractive',\n",
              "                                                     [key], {});\n",
              "          if (!dataTable) return;\n",
              "\n",
              "          const docLinkHtml = 'Like what you see? Visit the ' +\n",
              "            '<a target=\"_blank\" href=https://colab.research.google.com/notebooks/data_table.ipynb>data table notebook</a>'\n",
              "            + ' to learn more about interactive tables.';\n",
              "          element.innerHTML = '';\n",
              "          dataTable['output_type'] = 'display_data';\n",
              "          await google.colab.output.renderOutput(dataTable, element);\n",
              "          const docLink = document.createElement('div');\n",
              "          docLink.innerHTML = docLinkHtml;\n",
              "          element.appendChild(docLink);\n",
              "        }\n",
              "      </script>\n",
              "    </div>\n",
              "  </div>\n",
              "  "
            ]
          },
          "metadata": {},
          "execution_count": 191
        }
      ],
      "source": [
        "pd.crosstab(df[\"Cholesterol\"], df[\"BP\"])"
      ]
    },
    {
      "cell_type": "markdown",
      "id": "2949a675",
      "metadata": {
        "papermill": {
          "duration": 0.017259,
          "end_time": "2023-01-01T15:51:31.706627",
          "exception": false,
          "start_time": "2023-01-01T15:51:31.689368",
          "status": "completed"
        },
        "tags": [],
        "id": "2949a675"
      },
      "source": [
        "# 5. Heatmap"
      ]
    },
    {
      "cell_type": "code",
      "execution_count": null,
      "id": "dac1b43a",
      "metadata": {
        "execution": {
          "iopub.execute_input": "2023-01-01T15:51:31.744395Z",
          "iopub.status.busy": "2023-01-01T15:51:31.743632Z",
          "iopub.status.idle": "2023-01-01T15:51:32.246299Z",
          "shell.execute_reply": "2023-01-01T15:51:32.245118Z"
        },
        "papermill": {
          "duration": 0.524791,
          "end_time": "2023-01-01T15:51:32.248901",
          "exception": false,
          "start_time": "2023-01-01T15:51:31.724110",
          "status": "completed"
        },
        "tags": [],
        "colab": {
          "base_uri": "https://localhost:8080/",
          "height": 599
        },
        "id": "dac1b43a",
        "outputId": "da9a9fd9-f398-4ca5-9ec7-edaec186c3bd"
      },
      "outputs": [
        {
          "output_type": "display_data",
          "data": {
            "text/plain": [
              "<Figure size 1080x720 with 2 Axes>"
            ],
            "image/png": "[encoded data removed]"
          },
          "metadata": {}
        }
      ],
      "source": [
        "corr_matrix = df.corr()\n",
        "fig, ax = plt.subplots(figsize=(15, 10))\n",
        "ax = sns.heatmap(corr_matrix, \n",
        "                 annot=True,\n",
        "                 linewidths=0.5,\n",
        "                 fmt=\".2f\",\n",
        "                 cmap=\"YlGnBu\");"
      ]
    },
    {
      "cell_type": "markdown",
      "id": "5c27b70e",
      "metadata": {
        "papermill": {
          "duration": 0.019864,
          "end_time": "2023-01-01T15:51:32.286619",
          "exception": false,
          "start_time": "2023-01-01T15:51:32.266755",
          "status": "completed"
        },
        "tags": [],
        "id": "5c27b70e"
      },
      "source": [
        "# Train Test Spilit "
      ]
    },
    {
      "cell_type": "code",
      "execution_count": null,
      "id": "a4924368",
      "metadata": {
        "execution": {
          "iopub.execute_input": "2023-01-01T15:51:32.323861Z",
          "iopub.status.busy": "2023-01-01T15:51:32.323460Z",
          "iopub.status.idle": "2023-01-01T15:51:32.331634Z",
          "shell.execute_reply": "2023-01-01T15:51:32.330424Z"
        },
        "papermill": {
          "duration": 0.029068,
          "end_time": "2023-01-01T15:51:32.333815",
          "exception": false,
          "start_time": "2023-01-01T15:51:32.304747",
          "status": "completed"
        },
        "tags": [],
        "id": "a4924368"
      },
      "outputs": [],
      "source": [
        "# Split data into train and test sets\n",
        "np.random.seed(42)\n",
        "\n",
        "# Split into train & test set\n",
        "X_train, X_test, y_train, y_test = train_test_split(df.drop(\"Drug\", axis = 1),\n",
        "                                                    df[\"Drug\"],\n",
        "                                                    test_size=0.3, random_state=42)"
      ]
    },
    {
      "cell_type": "code",
      "source": [
        "x = df.drop(\"Drug\", axis = 1).values\n",
        "y = df[\"Drug\"].values\n",
        "\n",
        "p_values = f_regression(x,y)[1]\n",
        "len(p_values)"
      ],
      "metadata": {
        "colab": {
          "base_uri": "https://localhost:8080/"
        },
        "id": "YDd67A6q-Fj2",
        "outputId": "ff2db6dc-e9d9-4ada-df86-94d67deebcfe"
      },
      "id": "YDd67A6q-Fj2",
      "execution_count": null,
      "outputs": [
        {
          "output_type": "execute_result",
          "data": {
            "text/plain": [
              "5"
            ]
          },
          "metadata": {},
          "execution_count": 194
        }
      ]
    },
    {
      "cell_type": "code",
      "execution_count": null,
      "id": "fa25c864",
      "metadata": {
        "execution": {
          "iopub.execute_input": "2023-01-01T15:51:32.421367Z",
          "iopub.status.busy": "2023-01-01T15:51:32.420975Z",
          "iopub.status.idle": "2023-01-01T15:51:32.429128Z",
          "shell.execute_reply": "2023-01-01T15:51:32.428250Z"
        },
        "papermill": {
          "duration": 0.029448,
          "end_time": "2023-01-01T15:51:32.431460",
          "exception": false,
          "start_time": "2023-01-01T15:51:32.402012",
          "status": "completed"
        },
        "tags": [],
        "colab": {
          "base_uri": "https://localhost:8080/"
        },
        "id": "fa25c864",
        "outputId": "fe44b526-ff1a-400c-a800-1289036bc3e1"
      },
      "outputs": [
        {
          "output_type": "execute_result",
          "data": {
            "text/plain": [
              "[{'Age': 0.556},\n",
              " {'Sex': 0.798},\n",
              " {'BP': 0.0},\n",
              " {'Cholesterol': 0.496},\n",
              " {'Na_to_K': 0.0}]"
            ]
          },
          "metadata": {},
          "execution_count": 195
        }
      ],
      "source": [
        "l = []\n",
        "\n",
        "col = list(df.columns)\n",
        "iter_df = 0\n",
        "\n",
        "for value in p_values:\n",
        "    if col[iter_df] == \"close\":\n",
        "        iter_df += 1\n",
        "        \n",
        "    l.append({col[iter_df] : value.round(3)})\n",
        "    iter_df += 1\n",
        "    \n",
        "l"
      ]
    },
    {
      "cell_type": "markdown",
      "id": "e9b0f5cb",
      "metadata": {
        "papermill": {
          "duration": 0.017701,
          "end_time": "2023-01-01T15:51:32.467433",
          "exception": false,
          "start_time": "2023-01-01T15:51:32.449732",
          "status": "completed"
        },
        "tags": [],
        "id": "e9b0f5cb"
      },
      "source": [
        "# ML Modelling "
      ]
    },
    {
      "cell_type": "code",
      "source": [
        "from sklearn.neighbors import KNeighborsClassifier\n",
        "from sklearn.metrics import roc_auc_score\n",
        "KNeighborsClassifier = KNeighborsClassifier(n_neighbors=5)\n",
        "KNeighborsClassifier.fit(X_train, y_train)\n",
        "\n",
        "# Training \n",
        "\n",
        "# y_pred = KNeighborsClassifier.predict(X_train)\n",
        "\n",
        "# print(classification_report(y_train, y_pred))\n",
        "# print(confusion_matrix(y_train, y_pred))\n",
        "\n",
        "# from sklearn.metrics import accuracy_score\n",
        "# LRAcc = accuracy_score(y_pred,y_train)\n",
        "# print('KNN accuracy is: {:.2f}%'.format(LRAcc*100))\n",
        "# ypred_testP = KNeighborsClassifier.predict_proba(X_test)\n",
        "# auc = roc_auc_score(y_test, ypred_testP, multi_class='ovr')\n",
        "# print(auc)\n",
        "\n",
        "# Testing\n",
        "\n",
        "y_pred = KNeighborsClassifier.predict(X_test)\n",
        "\n",
        "print(classification_report(y_test, y_pred))\n",
        "print(confusion_matrix(y_test, y_pred))\n",
        "\n",
        "from sklearn.metrics import accuracy_score\n",
        "LRAcc = accuracy_score(y_pred,y_test)\n",
        "print('KNN accuracy is: {:.2f}%'.format(LRAcc*100))\n",
        "ypred_testP = KNeighborsClassifier.predict_proba(X_test)\n",
        "auc = roc_auc_score(y_test, ypred_testP, multi_class='ovr')\n",
        "print(auc)"
      ],
      "metadata": {
        "colab": {
          "base_uri": "https://localhost:8080/"
        },
        "id": "rXi4EIxDZO7J",
        "outputId": "72ee6807-11b5-4504-97fd-80a8afbbf3c4"
      },
      "id": "rXi4EIxDZO7J",
      "execution_count": null,
      "outputs": [
        {
          "output_type": "stream",
          "name": "stdout",
          "text": [
            "              precision    recall  f1-score   support\n",
            "\n",
            "           0       1.00      1.00      1.00        26\n",
            "           1       0.27      0.43      0.33         7\n",
            "           2       0.17      0.33      0.22         3\n",
            "           3       0.33      0.17      0.22         6\n",
            "           4       0.50      0.39      0.44        18\n",
            "\n",
            "    accuracy                           0.63        60\n",
            "   macro avg       0.45      0.46      0.44        60\n",
            "weighted avg       0.66      0.63      0.64        60\n",
            "\n",
            "[[26  0  0  0  0]\n",
            " [ 0  3  0  0  4]\n",
            " [ 0  0  1  0  2]\n",
            " [ 0  2  2  1  1]\n",
            " [ 0  6  3  2  7]]\n",
            "KNN accuracy is: 63.33%\n",
            "0.8379738654813135\n"
          ]
        }
      ]
    },
    {
      "cell_type": "code",
      "execution_count": null,
      "id": "0a384b5f",
      "metadata": {
        "execution": {
          "iopub.execute_input": "2023-01-01T15:51:32.504954Z",
          "iopub.status.busy": "2023-01-01T15:51:32.503948Z",
          "iopub.status.idle": "2023-01-01T15:51:32.511682Z",
          "shell.execute_reply": "2023-01-01T15:51:32.510533Z"
        },
        "papermill": {
          "duration": 0.028879,
          "end_time": "2023-01-01T15:51:32.513968",
          "exception": false,
          "start_time": "2023-01-01T15:51:32.485089",
          "status": "completed"
        },
        "tags": [],
        "id": "0a384b5f"
      },
      "outputs": [],
      "source": [
        "from sklearn.neighbors import KNeighborsClassifier\n",
        "\n",
        "# Put models in a dictionary\n",
        "models = {\"KNN\": KNeighborsClassifier(n_neighbors = 5)}\n",
        "\n",
        "# Create a function to fit and score models\n",
        "def fit_and_score(models, X_train, X_test, y_train, y_test):\n",
        "    \"\"\"\n",
        "    Fits and evaluates given machine learning models.\n",
        "    models : a dict of differetn Scikit-Learn machine learning models\n",
        "    X_train : training data (no labels)\n",
        "    X_test : testing data (no labels)\n",
        "    y_train : training labels\n",
        "    y_test : test labels\n",
        "    \"\"\"\n",
        "    # Set random seed\n",
        "    np.random.seed(42)\n",
        "    # Make a dictionary to keep model scores\n",
        "    model_scores = {}\n",
        "    # Loop through models\n",
        "    for name, model in models.items():\n",
        "        # Fit the model to the data\n",
        "        model.fit(X_train, y_train)\n",
        "        # Evaluate the model and append its score to model_scores\n",
        "        model_scores[name] = model.score(X_test, y_test)\n",
        "    return model_scores"
      ]
    },
    {
      "cell_type": "markdown",
      "id": "87722b64",
      "metadata": {
        "papermill": {
          "duration": 0.018082,
          "end_time": "2023-01-01T15:51:33.017196",
          "exception": false,
          "start_time": "2023-01-01T15:51:32.999114",
          "status": "completed"
        },
        "tags": [],
        "id": "87722b64"
      },
      "source": [
        "# Hyperparameter Tuning - KNN"
      ]
    },
    {
      "cell_type": "code",
      "execution_count": null,
      "id": "c55a9d86",
      "metadata": {
        "execution": {
          "iopub.execute_input": "2023-01-01T15:51:33.055717Z",
          "iopub.status.busy": "2023-01-01T15:51:33.055335Z",
          "iopub.status.idle": "2023-01-01T15:51:33.295080Z",
          "shell.execute_reply": "2023-01-01T15:51:33.294144Z"
        },
        "papermill": {
          "duration": 0.262321,
          "end_time": "2023-01-01T15:51:33.297728",
          "exception": false,
          "start_time": "2023-01-01T15:51:33.035407",
          "status": "completed"
        },
        "tags": [],
        "id": "c55a9d86"
      },
      "outputs": [],
      "source": [
        "# Let's tune KNN\n",
        "train_scores = []\n",
        "test_scores = []\n",
        "\n",
        "# Create a list of differnt values for n_neighbors\n",
        "neighbors = range(1, 21)\n",
        "\n",
        "# Setup KNN instance\n",
        "knn = KNeighborsClassifier()\n",
        "\n",
        "# Loop through different n_neighbors\n",
        "for i in neighbors:\n",
        "    knn.set_params(n_neighbors=i)\n",
        "    \n",
        "    # Fit the algorithm\n",
        "    knn.fit(X_train, y_train)\n",
        "    \n",
        "    # Update the training scores list\n",
        "    train_scores.append(knn.score(X_train, y_train))\n",
        "    \n",
        "    # Update the test scores list\n",
        "    test_scores.append(knn.score(X_test, y_test))"
      ]
    },
    {
      "cell_type": "code",
      "execution_count": null,
      "id": "af427bbd",
      "metadata": {
        "execution": {
          "iopub.execute_input": "2023-01-01T15:51:33.336782Z",
          "iopub.status.busy": "2023-01-01T15:51:33.336016Z",
          "iopub.status.idle": "2023-01-01T15:51:33.732639Z",
          "shell.execute_reply": "2023-01-01T15:51:33.731284Z"
        },
        "papermill": {
          "duration": 0.418802,
          "end_time": "2023-01-01T15:51:33.735102",
          "exception": false,
          "start_time": "2023-01-01T15:51:33.316300",
          "status": "completed"
        },
        "tags": [],
        "id": "af427bbd",
        "colab": {
          "base_uri": "https://localhost:8080/",
          "height": 302
        },
        "outputId": "051c1838-1db0-4853-c0bb-104ab9204dbd"
      },
      "outputs": [
        {
          "output_type": "stream",
          "name": "stdout",
          "text": [
            "Maximum KNN score on the test data: 75.00%\n"
          ]
        },
        {
          "output_type": "display_data",
          "data": {
            "text/plain": [
              "<Figure size 432x288 with 1 Axes>"
            ],
            "image/png": "[encoded data removed]"
          },
          "metadata": {}
        }
      ],
      "source": [
        "plt.plot(neighbors, train_scores, label=\"Train score\")\n",
        "plt.plot(neighbors, test_scores, label=\"Test score\")\n",
        "plt.xticks(np.arange(1, 21, 1))\n",
        "plt.xlabel(\"Number of neighbors\")\n",
        "plt.ylabel(\"Model score\")\n",
        "plt.legend()\n",
        "\n",
        "print(f\"Maximum KNN score on the test data: {max(test_scores)*100:.2f}%\")"
      ]
    },
    {
      "cell_type": "markdown",
      "source": [
        "# **Logistic Regression**"
      ],
      "metadata": {
        "id": "pqRmjUdQBymF"
      },
      "id": "pqRmjUdQBymF"
    },
    {
      "cell_type": "code",
      "source": [
        "from sklearn.preprocessing import StandardScaler\n",
        "from sklearn.linear_model import LogisticRegression \n",
        "from sklearn.pipeline import Pipeline\n",
        "\n",
        "steps = [('scaler', StandardScaler()),\n",
        "         ('logReg', LogisticRegression(solver='liblinear'))]\n",
        "\n",
        "clf_pipeline = Pipeline(steps) \n",
        "clf_pipeline.fit(X_train, y_train)"
      ],
      "metadata": {
        "colab": {
          "base_uri": "https://localhost:8080/"
        },
        "id": "ptgSGwYIG3pi",
        "outputId": "bb016439-58da-413f-96f2-b0f911da4672"
      },
      "id": "ptgSGwYIG3pi",
      "execution_count": null,
      "outputs": [
        {
          "output_type": "execute_result",
          "data": {
            "text/plain": [
              "Pipeline(steps=[('scaler', StandardScaler()),\n",
              "                ('logReg', LogisticRegression(solver='liblinear'))])"
            ]
          },
          "metadata": {},
          "execution_count": 200
        }
      ]
    },
    {
      "cell_type": "code",
      "source": [
        "from sklearn.metrics import classification_report\n",
        "from sklearn.metrics import confusion_matrix\n",
        "from sklearn.metrics import roc_auc_score\n",
        "\n",
        "# Training\n",
        "\n",
        "# ypred_test = clf_pipeline.predict(X_train)\n",
        "# mat_clf = confusion_matrix(y_train, ypred_test)\n",
        "# report_clf = classification_report(y_train, ypred_test)\n",
        "\n",
        "# print(mat_clf)\n",
        "# print(report_clf)\n",
        "\n",
        "# ypred_testP = clf_pipeline.predict_proba(X_train)\n",
        "# auc = roc_auc_score(y_train, ypred_testP, multi_class='ovr')\n",
        "# print(auc)\n",
        "\n",
        "\n",
        "# Testing\n",
        "\n",
        "ypred_test = clf_pipeline.predict(X_test)\n",
        "mat_clf = confusion_matrix(y_test, ypred_test)\n",
        "report_clf = classification_report(y_test, ypred_test)\n",
        "\n",
        "print(mat_clf)\n",
        "print(report_clf)\n",
        "\n",
        "ypred_testP = clf_pipeline.predict_proba(X_test)\n",
        "auc = roc_auc_score(y_test, ypred_testP, multi_class='ovr')\n",
        "print(auc)"
      ],
      "metadata": {
        "colab": {
          "base_uri": "https://localhost:8080/"
        },
        "id": "cwiok2PnG8M8",
        "outputId": "8edf5681-2136-4e35-b9a2-09006f321b1c"
      },
      "id": "cwiok2PnG8M8",
      "execution_count": null,
      "outputs": [
        {
          "output_type": "stream",
          "name": "stdout",
          "text": [
            "[[23  1  1  0  1]\n",
            " [ 0  7  0  0  0]\n",
            " [ 0  0  3  0  0]\n",
            " [ 1  1  0  0  4]\n",
            " [ 0  0  0  0 18]]\n",
            "              precision    recall  f1-score   support\n",
            "\n",
            "           0       0.96      0.88      0.92        26\n",
            "           1       0.78      1.00      0.88         7\n",
            "           2       0.75      1.00      0.86         3\n",
            "           3       0.00      0.00      0.00         6\n",
            "           4       0.78      1.00      0.88        18\n",
            "\n",
            "    accuracy                           0.85        60\n",
            "   macro avg       0.65      0.78      0.71        60\n",
            "weighted avg       0.78      0.85      0.81        60\n",
            "\n",
            "0.9894414460091973\n"
          ]
        }
      ]
    },
    {
      "cell_type": "markdown",
      "source": [
        "# SVM (Linear)"
      ],
      "metadata": {
        "id": "GhgxdAdRCKOt"
      },
      "id": "GhgxdAdRCKOt"
    },
    {
      "cell_type": "code",
      "source": [
        "from sklearn.svm import SVC\n",
        "from sklearn.metrics import roc_auc_score\n",
        "SVCclassifier = SVC(kernel='linear', max_iter=251, probability=True)\n",
        "SVCclassifier.fit(X_train, y_train)\n",
        "\n",
        "# Testing \n",
        "\n",
        "# y_pred = SVCclassifier.predict(X_test)\n",
        "\n",
        "# print(classification_report(y_test, y_pred))\n",
        "# print(confusion_matrix(y_test, y_pred))\n",
        "\n",
        "# from sklearn.metrics import accuracy_score\n",
        "# SVCAcc = accuracy_score(y_pred,y_test)\n",
        "# print('SVC accuracy is: {:.2f}%'.format(SVCAcc*100))\n",
        "# ypred_testP = SVCclassifier.predict_proba(X_test)\n",
        "# auc = roc_auc_score(y_test, ypred_testP, multi_class='ovr')\n",
        "# print(auc)\n",
        "\n",
        "# Training\n",
        "\n",
        "y_pred = SVCclassifier.predict(X_train)\n",
        "\n",
        "print(classification_report(y_train, y_pred))\n",
        "print(confusion_matrix(y_train, y_pred))\n",
        "\n",
        "from sklearn.metrics import accuracy_score\n",
        "SVCAcc = accuracy_score(y_pred,y_train)\n",
        "print('SVC accuracy is: {:.2f}%'.format(SVCAcc*100))\n",
        "ypred_testP = SVCclassifier.predict_proba(X_test)\n",
        "auc = roc_auc_score(y_test, ypred_testP, multi_class='ovr')\n",
        "print(auc)"
      ],
      "metadata": {
        "id": "R7b3uhlUCM5h",
        "colab": {
          "base_uri": "https://localhost:8080/"
        },
        "outputId": "07173534-f426-476d-ae49-c157680e3039"
      },
      "id": "R7b3uhlUCM5h",
      "execution_count": null,
      "outputs": [
        {
          "output_type": "stream",
          "name": "stdout",
          "text": [
            "              precision    recall  f1-score   support\n",
            "\n",
            "           0       1.00      1.00      1.00        65\n",
            "           1       1.00      1.00      1.00        16\n",
            "           2       1.00      1.00      1.00        13\n",
            "           3       1.00      1.00      1.00        10\n",
            "           4       1.00      1.00      1.00        36\n",
            "\n",
            "    accuracy                           1.00       140\n",
            "   macro avg       1.00      1.00      1.00       140\n",
            "weighted avg       1.00      1.00      1.00       140\n",
            "\n",
            "[[65  0  0  0  0]\n",
            " [ 0 16  0  0  0]\n",
            " [ 0  0 13  0  0]\n",
            " [ 0  0  0 10  0]\n",
            " [ 0  0  0  0 36]]\n",
            "SVC accuracy is: 100.00%\n",
            "1.0\n"
          ]
        }
      ]
    },
    {
      "cell_type": "markdown",
      "source": [
        "## SVM (Poly)"
      ],
      "metadata": {
        "id": "pjHR2X6SrnWe"
      },
      "id": "pjHR2X6SrnWe"
    },
    {
      "cell_type": "code",
      "source": [
        "from sklearn.svm import SVC\n",
        "from sklearn.metrics import roc_auc_score\n",
        "SVCclassifier = SVC(kernel='poly', degree=23, probability=True)\n",
        "SVCclassifier.fit(X_train, y_train)\n",
        "\n",
        "# Training\n",
        "\n",
        "# y_pred = SVCclassifier.predict(X_train)\n",
        "\n",
        "# print(classification_report(y_train, y_pred))\n",
        "# print(confusion_matrix(y_train, y_pred))\n",
        "\n",
        "# ypred_testP = SVCclassifier.predict_proba(X_test)\n",
        "# auc = roc_auc_score(y_test, ypred_testP, multi_class='ovr')\n",
        "# print(auc)\n",
        "\n",
        "# from sklearn.metrics import accuracy_score\n",
        "# SVCAcc = accuracy_score(y_pred,y_train)\n",
        "# print('SVC accuracy is: {:.2f}%'.format(SVCAcc*100))\n",
        "\n",
        "# Testing \n",
        "\n",
        "y_pred = SVCclassifier.predict(X_test)\n",
        "\n",
        "print(classification_report(y_test, y_pred))\n",
        "print(confusion_matrix(y_test, y_pred))\n",
        "\n",
        "ypred_testP = SVCclassifier.predict_proba(X_test)\n",
        "auc = roc_auc_score(y_test, ypred_testP, multi_class='ovr')\n",
        "print(auc)\n",
        "\n",
        "from sklearn.metrics import accuracy_score\n",
        "SVCAcc = accuracy_score(y_pred,y_test)\n",
        "print('SVC accuracy is: {:.2f}%'.format(SVCAcc*100))"
      ],
      "metadata": {
        "colab": {
          "base_uri": "https://localhost:8080/"
        },
        "id": "pVDGYXcxLC_1",
        "outputId": "aff36ed7-d031-4fe9-e27b-8de5ac53e8ed"
      },
      "id": "pVDGYXcxLC_1",
      "execution_count": null,
      "outputs": [
        {
          "output_type": "stream",
          "name": "stdout",
          "text": [
            "              precision    recall  f1-score   support\n",
            "\n",
            "           0       0.52      0.92      0.67        26\n",
            "           1       1.00      0.14      0.25         7\n",
            "           2       0.50      1.00      0.67         3\n",
            "           3       0.00      0.00      0.00         6\n",
            "           4       0.86      0.33      0.48        18\n",
            "\n",
            "    accuracy                           0.57        60\n",
            "   macro avg       0.58      0.48      0.41        60\n",
            "weighted avg       0.62      0.57      0.50        60\n",
            "\n",
            "[[24  0  2  0  0]\n",
            " [ 5  1  0  0  1]\n",
            " [ 0  0  3  0  0]\n",
            " [ 5  0  1  0  0]\n",
            " [12  0  0  0  6]]\n",
            "0.8217979363636235\n",
            "SVC accuracy is: 56.67%\n"
          ]
        }
      ]
    },
    {
      "cell_type": "markdown",
      "source": [
        "# Decision Tree"
      ],
      "metadata": {
        "id": "gpNWUQS9CS8I"
      },
      "id": "gpNWUQS9CS8I"
    },
    {
      "cell_type": "code",
      "source": [
        "from sklearn.tree import DecisionTreeClassifier\n",
        "DTclassifier = DecisionTreeClassifier(max_leaf_nodes=20)\n",
        "DTclassifier.fit(X_train, y_train)\n",
        "\n",
        "# Traning \n",
        "\n",
        "y_pred = DTclassifier.predict(X_train)\n",
        "\n",
        "print(classification_report(y_train, y_pred))\n",
        "print(confusion_matrix(y_train, y_pred))\n",
        "\n",
        "ypred_testP = DTclassifier.predict_proba(X_test)\n",
        "auc = roc_auc_score(y_test, ypred_testP, multi_class='ovr')\n",
        "print(auc)\n",
        "\n",
        "from sklearn.metrics import accuracy_score\n",
        "DTAcc = accuracy_score(y_pred,y_train)\n",
        "print('Decision Tree accuracy is: {:.2f}%'.format(DTAcc*100))\n",
        "\n",
        "# Testing\n",
        "\n",
        "# y_pred = DTclassifier.predict(X_test)\n",
        "\n",
        "# print(classification_report(y_test, y_pred))\n",
        "# print(confusion_matrix(y_test, y_pred))\n",
        "\n",
        "# ypred_tstP = DTclassifier.predict_proba(X_test)\n",
        "# auc = roc_auc_score(y_test, ypred_testP, multi_class='ovr')\n",
        "# print(auc)\n",
        "\n",
        "# from sklearn.metrics import accuracy_score\n",
        "# DTAcc = accuracy_score(y_pred,y_test)\n",
        "# print('Decision Tree accuracy is: {:.2f}%'.format(DTAcc*100))"
      ],
      "metadata": {
        "id": "tKFx5fKQCWGC",
        "colab": {
          "base_uri": "https://localhost:8080/"
        },
        "outputId": "d977849c-caf1-46e6-c012-00e805b26331"
      },
      "id": "tKFx5fKQCWGC",
      "execution_count": null,
      "outputs": [
        {
          "output_type": "stream",
          "name": "stdout",
          "text": [
            "              precision    recall  f1-score   support\n",
            "\n",
            "           0       1.00      1.00      1.00        65\n",
            "           1       1.00      1.00      1.00        16\n",
            "           2       1.00      1.00      1.00        13\n",
            "           3       1.00      1.00      1.00        10\n",
            "           4       1.00      1.00      1.00        36\n",
            "\n",
            "    accuracy                           1.00       140\n",
            "   macro avg       1.00      1.00      1.00       140\n",
            "weighted avg       1.00      1.00      1.00       140\n",
            "\n",
            "[[65  0  0  0  0]\n",
            " [ 0 16  0  0  0]\n",
            " [ 0  0 13  0  0]\n",
            " [ 0  0  0 10  0]\n",
            " [ 0  0  0  0 36]]\n",
            "1.0\n",
            "Decision Tree accuracy is: 100.00%\n"
          ]
        }
      ]
    },
    {
      "cell_type": "code",
      "source": [
        "scoreListDT = []\n",
        "for i in range(2,50):\n",
        "    DTclassifier = DecisionTreeClassifier(max_leaf_nodes=i)\n",
        "    DTclassifier.fit(X_train, y_train)\n",
        "    scoreListDT.append(DTclassifier.score(X_test, y_test))\n",
        "    \n",
        "plt.plot(range(2,50), scoreListDT)\n",
        "plt.xticks(np.arange(2,50,5))\n",
        "plt.xlabel(\"Leaf\")\n",
        "plt.ylabel(\"Score\")\n",
        "plt.show()\n",
        "DTAccMax = max(scoreListDT)\n",
        "print(\"DT Acc Max {:.2f}%\".format(DTAccMax*100))"
      ],
      "metadata": {
        "id": "vKwMQLUSCeXn",
        "colab": {
          "base_uri": "https://localhost:8080/",
          "height": 302
        },
        "outputId": "67e8cd70-b83f-43f3-e0e0-df2eee66713f"
      },
      "id": "vKwMQLUSCeXn",
      "execution_count": null,
      "outputs": [
        {
          "output_type": "display_data",
          "data": {
            "text/plain": [
              "<Figure size 432x288 with 1 Axes>"
            ],
            "image/png": "[encoded data removed]"
          },
          "metadata": {}
        },
        {
          "output_type": "stream",
          "name": "stdout",
          "text": [
            "DT Acc Max 100.00%\n"
          ]
        }
      ]
    },
    {
      "cell_type": "code",
      "source": [],
      "metadata": {
        "id": "KyLZA-EOs_6C"
      },
      "id": "KyLZA-EOs_6C",
      "execution_count": null,
      "outputs": []
    }
  ],
  "metadata": {
    "kernelspec": {
      "display_name": "Python 3",
      "language": "python",
      "name": "python3"
    },
    "language_info": {
      "codemirror_mode": {
        "name": "ipython",
        "version": 3
      },
      "file_extension": ".py",
      "mimetype": "text/x-python",
      "name": "python",
      "nbconvert_exporter": "python",
      "pygments_lexer": "ipython3",
      "version": "3.7.12"
    },
    "papermill": {
      "default_parameters": {},
      "duration": 92.224561,
      "end_time": "2023-01-01T15:52:49.000213",
      "environment_variables": {},
      "exception": null,
      "input_path": "__notebook__.ipynb",
      "output_path": "__notebook__.ipynb",
      "parameters": {},
      "start_time": "2023-01-01T15:51:16.775652",
      "version": "2.3.4"
    },
    "colab": {
      "provenance": [],
      "collapsed_sections": [
        "5c27b70e"
      ]
    }
  },
  "nbformat": 4,
  "nbformat_minor": 5
}